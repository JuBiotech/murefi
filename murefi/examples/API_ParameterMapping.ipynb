{
 "cells": [
  {
   "cell_type": "code",
   "execution_count": 1,
   "metadata": {},
   "outputs": [],
   "source": [
    "%load_ext autoreload\n",
    "%autoreload 2\n",
    "\n",
    "import numpy\n",
    "import pandas\n",
    "\n",
    "import murefi"
   ]
  },
  {
   "cell_type": "markdown",
   "metadata": {},
   "source": [
    "## Input\n",
    "The input file is just a table of `Replicate`-ID vs. parameters. The first column name is not important."
   ]
  },
  {
   "cell_type": "code",
   "execution_count": 2,
   "metadata": {
    "scrolled": true
   },
   "outputs": [],
   "source": [
    "df = pandas.read_csv(r\"..\\tests\\testfiles\\ParTest.csv\", sep=';', index_col=0)"
   ]
  },
  {
   "cell_type": "code",
   "execution_count": 3,
   "metadata": {},
   "outputs": [
    {
     "data": {
      "text/html": [
       "<div>\n",
       "<style scoped>\n",
       "    .dataframe tbody tr th:only-of-type {\n",
       "        vertical-align: middle;\n",
       "    }\n",
       "\n",
       "    .dataframe tbody tr th {\n",
       "        vertical-align: top;\n",
       "    }\n",
       "\n",
       "    .dataframe thead th {\n",
       "        text-align: right;\n",
       "    }\n",
       "</style>\n",
       "<table border=\"1\" class=\"dataframe\">\n",
       "  <thead>\n",
       "    <tr style=\"text-align: right;\">\n",
       "      <th></th>\n",
       "      <th>S_0</th>\n",
       "      <th>X_0</th>\n",
       "      <th>mue_max</th>\n",
       "      <th>K_S</th>\n",
       "      <th>Y_XS</th>\n",
       "      <th>t_lag</th>\n",
       "      <th>t_acc</th>\n",
       "    </tr>\n",
       "    <tr>\n",
       "      <th>id</th>\n",
       "      <th></th>\n",
       "      <th></th>\n",
       "      <th></th>\n",
       "      <th></th>\n",
       "      <th></th>\n",
       "      <th></th>\n",
       "      <th></th>\n",
       "    </tr>\n",
       "  </thead>\n",
       "  <tbody>\n",
       "    <tr>\n",
       "      <th>A01</th>\n",
       "      <td>test1A</td>\n",
       "      <td>test1B</td>\n",
       "      <td>3</td>\n",
       "      <td>4</td>\n",
       "      <td>5</td>\n",
       "      <td>6</td>\n",
       "      <td>7</td>\n",
       "    </tr>\n",
       "    <tr>\n",
       "      <th>B02</th>\n",
       "      <td>11</td>\n",
       "      <td>test1B</td>\n",
       "      <td>test2C</td>\n",
       "      <td>test2D</td>\n",
       "      <td>15</td>\n",
       "      <td>16</td>\n",
       "      <td>17</td>\n",
       "    </tr>\n",
       "  </tbody>\n",
       "</table>\n",
       "</div>"
      ],
      "text/plain": [
       "        S_0     X_0 mue_max     K_S  Y_XS  t_lag  t_acc\n",
       "id                                                     \n",
       "A01  test1A  test1B       3       4     5      6      7\n",
       "B02      11  test1B  test2C  test2D    15     16     17"
      ]
     },
     "execution_count": 3,
     "metadata": {},
     "output_type": "execute_result"
    }
   ],
   "source": [
    "df"
   ]
  },
  {
   "cell_type": "markdown",
   "metadata": {},
   "source": [
    "## Instantiation\n",
    "The constructor of the `ParameterMapping` takes override-dictionaries for `bounds` and initial `guesses`.\n",
    "These dictionaries should contain bounds & guesses for all model dimensions.\n",
    "\n",
    "To simplify the definition of `bounds` & `guesses`, we could add them as dictionary-properties to the model class.\n",
    "For demo purposes, this is shown with a mockup model:"
   ]
  },
  {
   "cell_type": "code",
   "execution_count": 4,
   "metadata": {},
   "outputs": [],
   "source": [
    "class Model:\n",
    "    def __init__(self):\n",
    "        self.bounds = dict(\n",
    "            S_0=(1,2),\n",
    "            X_0=(3,4),\n",
    "            mue_max=(5,6),\n",
    "            K_S=(7,8),\n",
    "            t_lag=(9,10),\n",
    "            t_acc=(11,12)\n",
    "        )\n",
    "        self.initial_guesses = dict(\n",
    "            S_0=0.1,\n",
    "            X_0=0.2,\n",
    "            mue_max=0.3,\n",
    "            K_S=0.4,\n",
    "            t_lag=0.5,\n",
    "            t_acc=0.6\n",
    "        )\n",
    "        return\n",
    "    \n",
    "model = Model()"
   ]
  },
  {
   "cell_type": "markdown",
   "metadata": {},
   "source": [
    "The `bounds` and `initial_guesses` from the model can be exploded (or passed directly).\n",
    "To override bounds or guesses for a particular model dimension, one can use some dict-magic:"
   ]
  },
  {
   "cell_type": "code",
   "execution_count": 5,
   "metadata": {},
   "outputs": [],
   "source": [
    "pm = murefi.ParameterMapping(df,\n",
    "    bounds=dict(\n",
    "        **model.bounds,\n",
    "        test2C=(5.1,6.1)\n",
    "    ),\n",
    "    guesses={\n",
    "        **model.initial_guesses,\n",
    "        **dict(test1A=0.11, X_0=0.21)    # this dictionary overrides entries from the one above\n",
    "    }\n",
    ")"
   ]
  },
  {
   "cell_type": "markdown",
   "metadata": {},
   "source": [
    "### Properties of the `ParameterMapping`\n",
    "The object exposes several properties that are useful in various contexts.\n",
    "This includes:\n",
    "+ `order`: names of model parameters (matches the column order from the DataFrame)\n",
    "+ `parameters`: dictionary of all unique parameters in the mapping and their corresponding model parameter name\n",
    "+ `bounds` and `guesses` with `ndim` entries for all the `parameters`\n",
    "+ `mapping` is a dictionary indicating the names or values of parameters that will end up in replicate-wise parameter vectors"
   ]
  },
  {
   "cell_type": "code",
   "execution_count": 6,
   "metadata": {},
   "outputs": [
    {
     "data": {
      "text/plain": [
       "('X_0', 'mue_max', 'K_S', 'Y_XS', 't_lag', 't_acc')"
      ]
     },
     "execution_count": 6,
     "metadata": {},
     "output_type": "execute_result"
    }
   ],
   "source": [
    "pm.order"
   ]
  },
  {
   "cell_type": "code",
   "execution_count": 7,
   "metadata": {},
   "outputs": [
    {
     "data": {
      "text/plain": [
       "3"
      ]
     },
     "execution_count": 7,
     "metadata": {},
     "output_type": "execute_result"
    }
   ],
   "source": [
    "pm.ndim"
   ]
  },
  {
   "cell_type": "code",
   "execution_count": 8,
   "metadata": {},
   "outputs": [
    {
     "data": {
      "text/plain": [
       "OrderedDict([('test1B', 'X_0'), ('test2C', 'mue_max'), ('test2D', 'K_S')])"
      ]
     },
     "execution_count": 8,
     "metadata": {},
     "output_type": "execute_result"
    }
   ],
   "source": [
    "pm.parameters"
   ]
  },
  {
   "cell_type": "code",
   "execution_count": 9,
   "metadata": {},
   "outputs": [
    {
     "data": {
      "text/plain": [
       "{'test1A': ('test1B', 3.0, 4.0, 5.0, 6.0, 7.0),\n",
       " '11': ('test1B', 'test2C', 'test2D', 15.0, 16.0, 17.0)}"
      ]
     },
     "execution_count": 9,
     "metadata": {},
     "output_type": "execute_result"
    }
   ],
   "source": [
    "pm.mapping"
   ]
  },
  {
   "cell_type": "code",
   "execution_count": 10,
   "metadata": {},
   "outputs": [
    {
     "data": {
      "text/plain": [
       "((3, 4), (5.1, 6.1), (7, 8))"
      ]
     },
     "execution_count": 10,
     "metadata": {},
     "output_type": "execute_result"
    }
   ],
   "source": [
    "pm.bounds"
   ]
  },
  {
   "cell_type": "code",
   "execution_count": 11,
   "metadata": {},
   "outputs": [
    {
     "data": {
      "text/plain": [
       "(0.21, 0.3, 0.4)"
      ]
     },
     "execution_count": 11,
     "metadata": {},
     "output_type": "execute_result"
    }
   ],
   "source": [
    "pm.guesses"
   ]
  },
  {
   "cell_type": "markdown",
   "metadata": {},
   "source": [
    "### Mapping method\n",
    "The `repmap` method is the most important feature - it maps a global parameter vector (same order as `parameters`) to `Replicate`-wise parameter vectors."
   ]
  },
  {
   "cell_type": "code",
   "execution_count": 12,
   "metadata": {},
   "outputs": [
    {
     "data": {
      "text/plain": [
       "{'test1A': array([1., 3., 4., 5., 6., 7.]),\n",
       " '11': array([ 1.,  2., 13., 15., 16., 17.])}"
      ]
     },
     "execution_count": 12,
     "metadata": {},
     "output_type": "execute_result"
    }
   ],
   "source": [
    "pm.repmap([1,2,13,14])"
   ]
  },
  {
   "cell_type": "code",
   "execution_count": 13,
   "metadata": {},
   "outputs": [
    {
     "data": {
      "text/plain": [
       "(0.21, 0.3, 0.4)"
      ]
     },
     "execution_count": 13,
     "metadata": {},
     "output_type": "execute_result"
    }
   ],
   "source": [
    "pm.guesses"
   ]
  },
  {
   "cell_type": "code",
   "execution_count": null,
   "metadata": {},
   "outputs": [],
   "source": []
  },
  {
   "cell_type": "code",
   "execution_count": null,
   "metadata": {},
   "outputs": [],
   "source": []
  },
  {
   "cell_type": "code",
   "execution_count": null,
   "metadata": {},
   "outputs": [],
   "source": []
  }
 ],
 "metadata": {
  "kernelspec": {
   "display_name": "Python 3",
   "language": "python",
   "name": "python3"
  },
  "language_info": {
   "codemirror_mode": {
    "name": "ipython",
    "version": 3
   },
   "file_extension": ".py",
   "mimetype": "text/x-python",
   "name": "python",
   "nbconvert_exporter": "python",
   "pygments_lexer": "ipython3",
   "version": "3.6.8"
  }
 },
 "nbformat": 4,
 "nbformat_minor": 2
}
