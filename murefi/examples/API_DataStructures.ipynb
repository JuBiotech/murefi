{
 "cells": [
  {
   "cell_type": "code",
   "execution_count": 1,
   "metadata": {},
   "outputs": [],
   "source": [
    "%load_ext autoreload\n",
    "%autoreload 2\n",
    "\n",
    "import numpy\n",
    "import pandas\n",
    "from matplotlib import pyplot\n",
    "\n",
    "import murefi"
   ]
  },
  {
   "cell_type": "markdown",
   "metadata": {},
   "source": [
    "## Create mock data for testing"
   ]
  },
  {
   "cell_type": "code",
   "execution_count": 2,
   "metadata": {},
   "outputs": [
    {
     "data": {
      "text/html": [
       "<div>\n",
       "<style scoped>\n",
       "    .dataframe tbody tr th:only-of-type {\n",
       "        vertical-align: middle;\n",
       "    }\n",
       "\n",
       "    .dataframe tbody tr th {\n",
       "        vertical-align: top;\n",
       "    }\n",
       "\n",
       "    .dataframe thead th {\n",
       "        text-align: right;\n",
       "    }\n",
       "</style>\n",
       "<table border=\"1\" class=\"dataframe\">\n",
       "  <thead>\n",
       "    <tr style=\"text-align: right;\">\n",
       "      <th></th>\n",
       "      <th>A01</th>\n",
       "      <th>A02</th>\n",
       "      <th>A03</th>\n",
       "    </tr>\n",
       "    <tr>\n",
       "      <th>time</th>\n",
       "      <th></th>\n",
       "      <th></th>\n",
       "      <th></th>\n",
       "    </tr>\n",
       "  </thead>\n",
       "  <tbody>\n",
       "    <tr>\n",
       "      <th>0.000000</th>\n",
       "      <td>0.227744</td>\n",
       "      <td>-0.279488</td>\n",
       "      <td>0.280922</td>\n",
       "    </tr>\n",
       "    <tr>\n",
       "      <th>1.578947</th>\n",
       "      <td>1.880380</td>\n",
       "      <td>2.646389</td>\n",
       "      <td>4.873693</td>\n",
       "    </tr>\n",
       "    <tr>\n",
       "      <th>3.157895</th>\n",
       "      <td>2.785674</td>\n",
       "      <td>6.574927</td>\n",
       "      <td>9.176510</td>\n",
       "    </tr>\n",
       "    <tr>\n",
       "      <th>4.736842</th>\n",
       "      <td>4.906486</td>\n",
       "      <td>9.599388</td>\n",
       "      <td>14.185834</td>\n",
       "    </tr>\n",
       "    <tr>\n",
       "      <th>6.315789</th>\n",
       "      <td>6.596554</td>\n",
       "      <td>12.743695</td>\n",
       "      <td>19.042274</td>\n",
       "    </tr>\n",
       "  </tbody>\n",
       "</table>\n",
       "</div>"
      ],
      "text/plain": [
       "               A01        A02        A03\n",
       "time                                    \n",
       "0.000000  0.227744  -0.279488   0.280922\n",
       "1.578947  1.880380   2.646389   4.873693\n",
       "3.157895  2.785674   6.574927   9.176510\n",
       "4.736842  4.906486   9.599388  14.185834\n",
       "6.315789  6.596554  12.743695  19.042274"
      ]
     },
     "execution_count": 2,
     "metadata": {},
     "output_type": "execute_result"
    }
   ],
   "source": [
    "raw_data = pandas.DataFrame(columns='time,A01,A02,A03'.split(','))\n",
    "raw_data.time = numpy.linspace(0, 30, 20)\n",
    "for w, well in enumerate('A01,A02,A03'.split(',')):\n",
    "    raw_data[well] = numpy.random.uniform() + numpy.random.normal((w+1) * raw_data.time, scale=0.2)\n",
    "raw_data = raw_data.set_index('time')\n",
    "raw_data.head()"
   ]
  },
  {
   "cell_type": "code",
   "execution_count": 3,
   "metadata": {},
   "outputs": [
    {
     "data": {
      "image/png": "[encoded data removed]",
      "text/plain": [
       "<Figure size 432x288 with 1 Axes>"
      ]
     },
     "metadata": {
      "needs_background": "light"
     },
     "output_type": "display_data"
    }
   ],
   "source": [
    "fig, ax = pyplot.subplots()\n",
    "\n",
    "for col in raw_data.columns:\n",
    "    ax.plot(raw_data.index, raw_data[col], label=col)\n",
    "    \n",
    "ax.legend()\n",
    "pyplot.show()"
   ]
  },
  {
   "cell_type": "markdown",
   "metadata": {},
   "source": [
    "## Now create `murefi` data structures\n",
    "There are three types of data in `murefi`:\n",
    "+ `Timeseries` is just a pair of vectors `x` and `y`\n",
    "+ `Replicate` bundles multiple `Timeseries` into one realization of an experiment\n",
    "+ `Dataset` contains many `Replicates` that are all independent of each other\n",
    "\n",
    "With these data structures, every single measurement can (and should!) have its own timestamp. Also, all the `Timeseries` may have different lengths.\n",
    "\n",
    "Now let's assume that the `raw_data` from above are trajectories of absorbance-values for three `Replicate`s."
   ]
  },
  {
   "cell_type": "code",
   "execution_count": 4,
   "metadata": {},
   "outputs": [
    {
     "data": {
      "text/plain": [
       "Dataset([('A01', Replicate(A430[:20], glc[:14])),\n",
       "         ('A02', Replicate(A430[:20], glc[:29])),\n",
       "         ('A03', Replicate(A430[:20], glc[:7]))])"
      ]
     },
     "execution_count": 4,
     "metadata": {},
     "output_type": "execute_result"
    }
   ],
   "source": [
    "dataset = murefi.Dataset()\n",
    "\n",
    "# make a replicate for each well\n",
    "for well in raw_data.columns:\n",
    "    # create a Replicate object and name it after the well\n",
    "    rep = murefi.Replicate(iid=well)\n",
    "    # then fill it with the timeseries\n",
    "    rep['A430'] = murefi.Timeseries(\n",
    "        x=numpy.array(raw_data.index),\n",
    "        y=numpy.array(raw_data[well]),\n",
    "        # independent_key describes the dimension (e.g. X, S, P, acid, ...)\n",
    "        # the dependent key is usually the unit of measurement\n",
    "        independent_key='P', dependent_key='A430'\n",
    "    )\n",
    "    # add variable-length glucose data\n",
    "    n = numpy.random.randint(5, 30)\n",
    "    rep['glc'] = murefi.Timeseries(\n",
    "        x=numpy.arange(0, n),\n",
    "        y=30-numpy.random.normal(numpy.arange(0, n), scale=.2),\n",
    "        independent_key='S',\n",
    "        dependent_key='glc'\n",
    "    )\n",
    "    # finally, add the replicate to the dataset\n",
    "    dataset[rep.iid] = rep\n",
    "    \n",
    "# by just printing out the dataset, its contents are summarized:\n",
    "dataset"
   ]
  },
  {
   "cell_type": "markdown",
   "metadata": {},
   "source": [
    "## Using the data structures\n",
    "`Dataset` and `Replicate` are dictionaries. They can be indexed with `[key]` and iterated over using `.items()`:"
   ]
  },
  {
   "cell_type": "code",
   "execution_count": 5,
   "metadata": {},
   "outputs": [
    {
     "name": "stdout",
     "output_type": "stream",
     "text": [
      "Replicate \"A01\" contains timeseries for: {'A430', 'glc'}\n",
      "Replicate \"A02\" contains timeseries for: {'A430', 'glc'}\n",
      "Replicate \"A03\" contains timeseries for: {'A430', 'glc'}\n"
     ]
    }
   ],
   "source": [
    "for rid, replicate in dataset.items():\n",
    "    print(f'Replicate \"{rid}\" contains timeseries for: {set(replicate.keys())}')"
   ]
  },
  {
   "cell_type": "code",
   "execution_count": 6,
   "metadata": {},
   "outputs": [
    {
     "data": {
      "image/png": "[encoded data removed]",
      "text/plain": [
       "<Figure size 432x288 with 1 Axes>"
      ]
     },
     "metadata": {
      "needs_background": "light"
     },
     "output_type": "display_data"
    }
   ],
   "source": [
    "rep_A01 = dataset['A01']\n",
    "A430_A01 = rep_A01['A430']\n",
    "\n",
    "fig, ax = pyplot.subplots()\n",
    "\n",
    "ax.set_xlabel('time')\n",
    "ax.set_ylabel(A430_A01.dependent_key)\n",
    "ax.scatter(A430_A01.x, A430_A01.y)\n",
    "\n",
    "pyplot.show()"
   ]
  },
  {
   "cell_type": "markdown",
   "metadata": {},
   "source": [
    "### Saving and loading datasets\n",
    "A `murefi.Dataset` can be saved to and loaded from a HDF5 file as shown below:"
   ]
  },
  {
   "cell_type": "code",
   "execution_count": 7,
   "metadata": {},
   "outputs": [],
   "source": [
    "dataset.save('Test123.h5')"
   ]
  },
  {
   "cell_type": "code",
   "execution_count": 8,
   "metadata": {},
   "outputs": [
    {
     "data": {
      "text/plain": [
       "Dataset([('A01', Replicate(A430[:20], glc[:14])),\n",
       "         ('A02', Replicate(A430[:20], glc[:29])),\n",
       "         ('A03', Replicate(A430[:20], glc[:7]))])"
      ]
     },
     "execution_count": 8,
     "metadata": {},
     "output_type": "execute_result"
    }
   ],
   "source": [
    "murefi.load_dataset('Test123.h5')"
   ]
  },
  {
   "cell_type": "code",
   "execution_count": null,
   "metadata": {},
   "outputs": [],
   "source": []
  }
 ],
 "metadata": {
  "kernelspec": {
   "display_name": "Python 3",
   "language": "python",
   "name": "python3"
  },
  "language_info": {
   "codemirror_mode": {
    "name": "ipython",
    "version": 3
   },
   "file_extension": ".py",
   "mimetype": "text/x-python",
   "name": "python",
   "nbconvert_exporter": "python",
   "pygments_lexer": "ipython3",
   "version": "3.6.8"
  }
 },
 "nbformat": 4,
 "nbformat_minor": 2
}
