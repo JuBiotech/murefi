{
 "cells": [
  {
   "cell_type": "markdown",
   "metadata": {},
   "source": [
    "## Automated model defintion for variable global and local parameters\n",
    "The overall goal of this structure is to have one top-level model which can be fed with the parameters relevant for a dataset. The model then passes the parameters necessary for the fitting of the individual experiments to models on the lower levels. Those calculate the scalar of the loss functions and the sum of all the loss functions is returned to the high-level model which then performs the optimization step."
   ]
  },
  {
   "cell_type": "markdown",
   "metadata": {},
   "source": [
    "### Importing packages"
   ]
  },
  {
   "cell_type": "code",
   "execution_count": 1,
   "metadata": {},
   "outputs": [],
   "source": [
    "import logging\n",
    "logger = logging.getLogger(__name__)\n",
    "import matplotlib.cm\n",
    "from matplotlib import pyplot\n",
    "import numpy\n",
    "import pandas\n",
    "import pathlib\n",
    "import scipy.optimize\n",
    "import bletl\n",
    "import murefi"
   ]
  },
  {
   "cell_type": "markdown",
   "metadata": {},
   "source": [
    "### Create a dataset object from biolector data"
   ]
  },
  {
   "cell_type": "code",
   "execution_count": 2,
   "metadata": {},
   "outputs": [
    {
     "name": "stderr",
     "output_type": "stream",
     "text": [
      "c:\\users\\helleckes\\appdata\\local\\continuum\\miniconda3\\envs\\master36\\lib\\site-packages\\bletl\\parsing\\bl1.py:113: UserWarning: Calibration values for DO signal are missing. Skipping calibration.\n",
      "  warnings.warn('Calibration values for DO signal are missing. Skipping calibration.')\n",
      "c:\\users\\helleckes\\appdata\\local\\continuum\\miniconda3\\envs\\master36\\lib\\site-packages\\bletl\\parsing\\bl1.py:104: UserWarning: Calibration values for pH signal are missing. Skipping calibration.\n",
      "  warnings.warn('Calibration values for pH signal are missing. Skipping calibration.')\n"
     ]
    }
   ],
   "source": [
    "filepath = pathlib.Path('Data', 'SiLA_Coryne_Standard_20181026_150350.csv')\n",
    "\n",
    "data = bletl.parse(filepath) #dictionary with FilterTimeSeries objects"
   ]
  },
  {
   "cell_type": "markdown",
   "metadata": {},
   "source": [
    "#### The parameter file determines the wells included in the dataset and fit\n",
    "Here, only wells A2, A3, B1, B2 and B3 all having the same parameters are extracted from the data"
   ]
  },
  {
   "cell_type": "code",
   "execution_count": 3,
   "metadata": {},
   "outputs": [],
   "source": [
    "parameter_path = pathlib.Path('Data', 'Parametertest.csv')"
   ]
  },
  {
   "cell_type": "code",
   "execution_count": 4,
   "metadata": {},
   "outputs": [],
   "source": [
    "df_mapping = pandas.read_csv(parameter_path, sep=';').iloc[2:]"
   ]
  },
  {
   "cell_type": "code",
   "execution_count": 5,
   "metadata": {},
   "outputs": [
    {
     "data": {
      "text/html": [
       "<div>\n",
       "<style scoped>\n",
       "    .dataframe tbody tr th:only-of-type {\n",
       "        vertical-align: middle;\n",
       "    }\n",
       "\n",
       "    .dataframe tbody tr th {\n",
       "        vertical-align: top;\n",
       "    }\n",
       "\n",
       "    .dataframe thead th {\n",
       "        text-align: right;\n",
       "    }\n",
       "</style>\n",
       "<table border=\"1\" class=\"dataframe\">\n",
       "  <thead>\n",
       "    <tr style=\"text-align: right;\">\n",
       "      <th></th>\n",
       "      <th>Parameter</th>\n",
       "      <th>S_0</th>\n",
       "      <th>X_0</th>\n",
       "      <th>mue_max</th>\n",
       "      <th>K_S</th>\n",
       "      <th>Y_XS</th>\n",
       "    </tr>\n",
       "  </thead>\n",
       "  <tbody>\n",
       "    <tr>\n",
       "      <th>2</th>\n",
       "      <td>A02</td>\n",
       "      <td>S_0</td>\n",
       "      <td>X_0</td>\n",
       "      <td>mue_max</td>\n",
       "      <td>K_S</td>\n",
       "      <td>Y_XS</td>\n",
       "    </tr>\n",
       "    <tr>\n",
       "      <th>3</th>\n",
       "      <td>A03</td>\n",
       "      <td>S_0</td>\n",
       "      <td>X_0</td>\n",
       "      <td>mue_max</td>\n",
       "      <td>K_S</td>\n",
       "      <td>Y_XS</td>\n",
       "    </tr>\n",
       "    <tr>\n",
       "      <th>4</th>\n",
       "      <td>B01</td>\n",
       "      <td>S_0</td>\n",
       "      <td>X_0</td>\n",
       "      <td>mue_max</td>\n",
       "      <td>K_S</td>\n",
       "      <td>Y_XS</td>\n",
       "    </tr>\n",
       "    <tr>\n",
       "      <th>5</th>\n",
       "      <td>B02</td>\n",
       "      <td>S_0</td>\n",
       "      <td>X_0</td>\n",
       "      <td>mue_max</td>\n",
       "      <td>K_S</td>\n",
       "      <td>Y_XS</td>\n",
       "    </tr>\n",
       "    <tr>\n",
       "      <th>6</th>\n",
       "      <td>B03</td>\n",
       "      <td>S_0</td>\n",
       "      <td>X_0</td>\n",
       "      <td>mue_max</td>\n",
       "      <td>K_S</td>\n",
       "      <td>Y_XS</td>\n",
       "    </tr>\n",
       "  </tbody>\n",
       "</table>\n",
       "</div>"
      ],
      "text/plain": [
       "  Parameter  S_0  X_0  mue_max  K_S  Y_XS\n",
       "2       A02  S_0  X_0  mue_max  K_S  Y_XS\n",
       "3       A03  S_0  X_0  mue_max  K_S  Y_XS\n",
       "4       B01  S_0  X_0  mue_max  K_S  Y_XS\n",
       "5       B02  S_0  X_0  mue_max  K_S  Y_XS\n",
       "6       B03  S_0  X_0  mue_max  K_S  Y_XS"
      ]
     },
     "execution_count": 5,
     "metadata": {},
     "output_type": "execute_result"
    }
   ],
   "source": [
    "df_mapping"
   ]
  },
  {
   "cell_type": "code",
   "execution_count": 6,
   "metadata": {},
   "outputs": [],
   "source": [
    "class Model:\n",
    "    def __init__(self):\n",
    "        self.bounds = dict(\n",
    "            S_0=(0,20),\n",
    "            X_0=(0,1),\n",
    "            mue_max=(0,0.8),\n",
    "            K_S=(0,0.2),\n",
    "            Y_XS=(0,0.8)\n",
    "        )\n",
    "        self.initial_guesses = dict(\n",
    "            S_0=10,\n",
    "            X_0=0.2,\n",
    "            mue_max=0.3,\n",
    "            K_S=0.05,\n",
    "            Y_XS=(0.5)\n",
    "        )\n",
    "        return\n",
    "    \n",
    "model = Model()"
   ]
  },
  {
   "cell_type": "code",
   "execution_count": 7,
   "metadata": {},
   "outputs": [],
   "source": [
    "mapping = murefi.ParameterMapping(df_mapping, bounds = model.bounds, guesses = model.initial_guesses)"
   ]
  },
  {
   "cell_type": "code",
   "execution_count": 8,
   "metadata": {},
   "outputs": [
    {
     "data": {
      "text/plain": [
       "dict_keys(['A02', 'A03', 'B01', 'B02', 'B03'])"
      ]
     },
     "execution_count": 8,
     "metadata": {},
     "output_type": "execute_result"
    }
   ],
   "source": [
    "mapping.mapping.keys()"
   ]
  },
  {
   "cell_type": "code",
   "execution_count": 9,
   "metadata": {
    "scrolled": true
   },
   "outputs": [
    {
     "name": "stderr",
     "output_type": "stream",
     "text": [
      "Not all measurements from {'BS10': <bletl.core.FilterTimeSeries object at 0x00000252D295DBA8>} are converted to a Dataset object. Wells ['A01', 'A04', 'A05', 'A06', 'A07', 'A08', 'B04', 'B05', 'B06', 'B07', 'B08', 'C01', 'C02', 'C03', 'C04', 'C05', 'C06', 'C07', 'C08', 'D01', 'D02', 'D03', 'D04', 'D05', 'D06', 'D07', 'D08', 'E01', 'E02', 'E03', 'E04', 'E05', 'E06', 'E07', 'E08', 'F01', 'F02', 'F03', 'F04', 'F05', 'F06', 'F07', 'F08'] were omitted.\n"
     ]
    },
    {
     "name": "stdout",
     "output_type": "stream",
     "text": [
      "Wells included: ['A02', 'A03', 'B01', 'B02', 'B03']\n"
     ]
    }
   ],
   "source": [
    "def create_dataset_object(bletl_data, parameter_mapping):\n",
    "    '''Function to create a dataset object for all replicates\n",
    "    Args:\n",
    "        bletl_data:     dictionary with 'FilterTimeSeries' objects (technicially \n",
    "                        calibrated data) from bletl (bldata.calibrated_data)\n",
    "        par_dic:        dictionary containing well IDs as keys and the\n",
    "                        parameters for fitting provided by the user\n",
    "                        (murefi.ParameterMapping(parameter_path).parameters_dic)\n",
    "    Returns: dataset objects (containing Replicate objects for each well)\n",
    "    '''\n",
    "    if not len(bletl_data['BS10'].value.keys()) == len(parameter_mapping.mapping.keys()):\n",
    "        excluded = [\n",
    "            key\n",
    "            for key in bletl_data['BS10'].value.keys()\n",
    "            if not key in parameter_mapping.mapping.keys()\n",
    "        ]\n",
    "        logger.warning(f'Not all measurements from {bletl_data} are converted to a Dataset object. Wells {excluded} were omitted.')\n",
    "    dataset = murefi.Dataset()\n",
    "    for well_id in parameter_mapping.mapping.keys():\n",
    "        bs_x = bletl_data['BS10'].time[well_id][0:120]\n",
    "        bs_y = bletl_data['BS10'].value[well_id].multiply(0.1187).add(0.5866)[0:120]\n",
    "        bs_ts = murefi.Timeseries('BS', list(bs_x), list(bs_y))\n",
    "        rep = murefi.Replicate(well_id)\n",
    "        rep['BS'] = bs_ts\n",
    "        dataset[well_id] = rep\n",
    "    return dataset\n",
    "\n",
    "    \n",
    "dataset = create_dataset_object(data, mapping)\n",
    "print('Wells included:', list(dataset.keys()))\n"
   ]
  },
  {
   "cell_type": "markdown",
   "metadata": {},
   "source": [
    "### Function to calculate the loglikelihood of the dataset"
   ]
  },
  {
   "cell_type": "markdown",
   "metadata": {},
   "source": [
    "## A fitting example"
   ]
  },
  {
   "cell_type": "code",
   "execution_count": 11,
   "metadata": {},
   "outputs": [],
   "source": [
    "theta_guessed = mapping.guesses\n",
    "model = murefi.MonodModel(['S','BS'])"
   ]
  },
  {
   "cell_type": "code",
   "execution_count": 12,
   "metadata": {},
   "outputs": [],
   "source": [
    "dataset_objective = create_objective(dataset, model, mapping)"
   ]
  },
  {
   "cell_type": "code",
   "execution_count": 15,
   "metadata": {},
   "outputs": [],
   "source": [
    "bounds = mapping.bounds\n",
    "fit = scipy.optimize.minimize(murefi.objectives.for_dataset(dataset, model, mapping, error_models=[]), theta_guessed, bounds = bounds)"
   ]
  },
  {
   "cell_type": "code",
   "execution_count": 17,
   "metadata": {},
   "outputs": [
    {
     "data": {
      "text/html": [
       "<div>\n",
       "<style scoped>\n",
       "    .dataframe tbody tr th:only-of-type {\n",
       "        vertical-align: middle;\n",
       "    }\n",
       "\n",
       "    .dataframe tbody tr th {\n",
       "        vertical-align: top;\n",
       "    }\n",
       "\n",
       "    .dataframe thead th {\n",
       "        text-align: right;\n",
       "    }\n",
       "</style>\n",
       "<table border=\"1\" class=\"dataframe\">\n",
       "  <thead>\n",
       "    <tr style=\"text-align: right;\">\n",
       "      <th></th>\n",
       "      <th>parameters</th>\n",
       "      <th>estimate</th>\n",
       "    </tr>\n",
       "  </thead>\n",
       "  <tbody>\n",
       "    <tr>\n",
       "      <th>K_S</th>\n",
       "      <td>K_S</td>\n",
       "      <td>0.05</td>\n",
       "    </tr>\n",
       "    <tr>\n",
       "      <th>S_0</th>\n",
       "      <td>S_0</td>\n",
       "      <td>10.00</td>\n",
       "    </tr>\n",
       "    <tr>\n",
       "      <th>X_0</th>\n",
       "      <td>X_0</td>\n",
       "      <td>0.20</td>\n",
       "    </tr>\n",
       "    <tr>\n",
       "      <th>Y_XS</th>\n",
       "      <td>Y_XS</td>\n",
       "      <td>0.50</td>\n",
       "    </tr>\n",
       "    <tr>\n",
       "      <th>mue_max</th>\n",
       "      <td>mue_max</td>\n",
       "      <td>0.30</td>\n",
       "    </tr>\n",
       "  </tbody>\n",
       "</table>\n",
       "</div>"
      ],
      "text/plain": [
       "        parameters  estimate\n",
       "K_S            K_S      0.05\n",
       "S_0            S_0     10.00\n",
       "X_0            X_0      0.20\n",
       "Y_XS          Y_XS      0.50\n",
       "mue_max    mue_max      0.30"
      ]
     },
     "execution_count": 17,
     "metadata": {},
     "output_type": "execute_result"
    }
   ],
   "source": [
    "result = pandas.DataFrame(columns=['parameters', 'estimate'])\n",
    "result['parameters'] = mapping.parameters\n",
    "result['estimate'] = fit.x\n",
    "result"
   ]
  },
  {
   "cell_type": "markdown",
   "metadata": {},
   "source": [
    "### Plotting\n",
    "Plot the 5 replicates and the fit"
   ]
  },
  {
   "cell_type": "code",
   "execution_count": 21,
   "metadata": {},
   "outputs": [
    {
     "data": {
      "text/plain": [
       "('S_0', 'X_0', 'mue_max', 'K_S', 'Y_XS')"
      ]
     },
     "execution_count": 21,
     "metadata": {},
     "output_type": "execute_result"
    }
   ],
   "source": [
    "mapping.order"
   ]
  },
  {
   "cell_type": "code",
   "execution_count": 23,
   "metadata": {},
   "outputs": [
    {
     "data": {
      "text/plain": [
       "{'A02': ('S_0', 'X_0', 'mue_max', 'K_S', 'Y_XS'),\n",
       " 'A03': ('S_0', 'X_0', 'mue_max', 'K_S', 'Y_XS'),\n",
       " 'B01': ('S_0', 'X_0', 'mue_max', 'K_S', 'Y_XS'),\n",
       " 'B02': ('S_0', 'X_0', 'mue_max', 'K_S', 'Y_XS'),\n",
       " 'B03': ('S_0', 'X_0', 'mue_max', 'K_S', 'Y_XS')}"
      ]
     },
     "execution_count": 23,
     "metadata": {},
     "output_type": "execute_result"
    }
   ],
   "source": [
    "mapping.mapping"
   ]
  },
  {
   "cell_type": "code",
   "execution_count": 22,
   "metadata": {},
   "outputs": [
    {
     "data": {
      "text/plain": [
       "OrderedDict([('K_S', 'K_S'),\n",
       "             ('S_0', 'S_0'),\n",
       "             ('X_0', 'X_0'),\n",
       "             ('Y_XS', 'Y_XS'),\n",
       "             ('mue_max', 'mue_max')])"
      ]
     },
     "execution_count": 22,
     "metadata": {},
     "output_type": "execute_result"
    }
   ],
   "source": [
    "mapping.parameters"
   ]
  },
  {
   "cell_type": "code",
   "execution_count": 20,
   "metadata": {},
   "outputs": [
    {
     "data": {
      "text/plain": [
       "array([ 0.05, 10.  ,  0.2 ,  0.5 ,  0.3 ])"
      ]
     },
     "execution_count": 20,
     "metadata": {},
     "output_type": "execute_result"
    }
   ],
   "source": [
    "fit.x"
   ]
  },
  {
   "cell_type": "code",
   "execution_count": 18,
   "metadata": {},
   "outputs": [
    {
     "ename": "ValueError",
     "evalue": "too many values to unpack (expected 3)",
     "output_type": "error",
     "traceback": [
      "\u001b[1;31m---------------------------------------------------------------------------\u001b[0m",
      "\u001b[1;31mValueError\u001b[0m                                Traceback (most recent call last)",
      "\u001b[1;32m<ipython-input-18-03d69feffaf9>\u001b[0m in \u001b[0;36m<module>\u001b[1;34m\u001b[0m\n\u001b[0;32m      4\u001b[0m \u001b[1;31m# Integrate data for the result of optimization\u001b[0m\u001b[1;33m\u001b[0m\u001b[1;33m\u001b[0m\u001b[1;33m\u001b[0m\u001b[0m\n\u001b[0;32m      5\u001b[0m \u001b[0mtheta_fit\u001b[0m \u001b[1;33m=\u001b[0m \u001b[0mfit\u001b[0m\u001b[1;33m.\u001b[0m\u001b[0mx\u001b[0m\u001b[1;33m\u001b[0m\u001b[1;33m\u001b[0m\u001b[0m\n\u001b[1;32m----> 6\u001b[1;33m \u001b[0my\u001b[0m \u001b[1;33m=\u001b[0m \u001b[0mmodel\u001b[0m\u001b[1;33m.\u001b[0m\u001b[0msolver\u001b[0m\u001b[1;33m(\u001b[0m\u001b[0mtheta_fit\u001b[0m\u001b[1;33m[\u001b[0m\u001b[1;36m0\u001b[0m\u001b[1;33m:\u001b[0m\u001b[1;36m2\u001b[0m\u001b[1;33m]\u001b[0m\u001b[1;33m,\u001b[0m \u001b[0mx_highres\u001b[0m\u001b[1;33m,\u001b[0m \u001b[0mtheta_fit\u001b[0m\u001b[1;33m)\u001b[0m\u001b[1;33m\u001b[0m\u001b[1;33m\u001b[0m\u001b[0m\n\u001b[0m\u001b[0;32m      7\u001b[0m \u001b[1;33m\u001b[0m\u001b[0m\n\u001b[0;32m      8\u001b[0m \u001b[1;31m#Plot replicates\u001b[0m\u001b[1;33m\u001b[0m\u001b[1;33m\u001b[0m\u001b[1;33m\u001b[0m\u001b[0m\n",
      "\u001b[1;32mc:\\users\\helleckes\\repos\\murefi\\murefi\\murefi\\ode.py\u001b[0m in \u001b[0;36msolver\u001b[1;34m(self, y0, x, theta)\u001b[0m\n\u001b[0;32m     45\u001b[0m         \u001b[1;32mif\u001b[0m \u001b[0mconcat_zero\u001b[0m\u001b[1;33m:\u001b[0m\u001b[1;33m\u001b[0m\u001b[1;33m\u001b[0m\u001b[0m\n\u001b[0;32m     46\u001b[0m             \u001b[0mx\u001b[0m \u001b[1;33m=\u001b[0m \u001b[0mnumpy\u001b[0m\u001b[1;33m.\u001b[0m\u001b[0mconcatenate\u001b[0m\u001b[1;33m(\u001b[0m\u001b[1;33m(\u001b[0m\u001b[1;33m[\u001b[0m\u001b[1;36m0\u001b[0m\u001b[1;33m]\u001b[0m\u001b[1;33m,\u001b[0m \u001b[0mx\u001b[0m\u001b[1;33m)\u001b[0m\u001b[1;33m)\u001b[0m\u001b[1;33m\u001b[0m\u001b[1;33m\u001b[0m\u001b[0m\n\u001b[1;32m---> 47\u001b[1;33m         \u001b[0my\u001b[0m \u001b[1;33m=\u001b[0m \u001b[0mscipy\u001b[0m\u001b[1;33m.\u001b[0m\u001b[0mintegrate\u001b[0m\u001b[1;33m.\u001b[0m\u001b[0modeint\u001b[0m\u001b[1;33m(\u001b[0m\u001b[0mself\u001b[0m\u001b[1;33m.\u001b[0m\u001b[0mdydt\u001b[0m\u001b[1;33m,\u001b[0m \u001b[0my0\u001b[0m\u001b[1;33m,\u001b[0m \u001b[0mx\u001b[0m\u001b[1;33m,\u001b[0m \u001b[1;33m(\u001b[0m\u001b[0mtheta\u001b[0m\u001b[1;33m,\u001b[0m\u001b[1;33m)\u001b[0m\u001b[1;33m)\u001b[0m\u001b[1;33m\u001b[0m\u001b[1;33m\u001b[0m\u001b[0m\n\u001b[0m\u001b[0;32m     48\u001b[0m         \u001b[1;32mif\u001b[0m \u001b[0mconcat_zero\u001b[0m\u001b[1;33m:\u001b[0m\u001b[1;33m\u001b[0m\u001b[1;33m\u001b[0m\u001b[0m\n\u001b[0;32m     49\u001b[0m             \u001b[0my\u001b[0m \u001b[1;33m=\u001b[0m \u001b[0my\u001b[0m\u001b[1;33m[\u001b[0m\u001b[1;36m1\u001b[0m\u001b[1;33m:\u001b[0m\u001b[1;33m]\u001b[0m\u001b[1;33m\u001b[0m\u001b[1;33m\u001b[0m\u001b[0m\n",
      "\u001b[1;32mc:\\users\\helleckes\\appdata\\local\\continuum\\miniconda3\\envs\\master36\\lib\\site-packages\\scipy\\integrate\\odepack.py\u001b[0m in \u001b[0;36modeint\u001b[1;34m(func, y0, t, args, Dfun, col_deriv, full_output, ml, mu, rtol, atol, tcrit, h0, hmax, hmin, ixpr, mxstep, mxhnil, mxordn, mxords, printmessg, tfirst)\u001b[0m\n\u001b[0;32m    242\u001b[0m                              \u001b[0mfull_output\u001b[0m\u001b[1;33m,\u001b[0m \u001b[0mrtol\u001b[0m\u001b[1;33m,\u001b[0m \u001b[0matol\u001b[0m\u001b[1;33m,\u001b[0m \u001b[0mtcrit\u001b[0m\u001b[1;33m,\u001b[0m \u001b[0mh0\u001b[0m\u001b[1;33m,\u001b[0m \u001b[0mhmax\u001b[0m\u001b[1;33m,\u001b[0m \u001b[0mhmin\u001b[0m\u001b[1;33m,\u001b[0m\u001b[1;33m\u001b[0m\u001b[1;33m\u001b[0m\u001b[0m\n\u001b[0;32m    243\u001b[0m                              \u001b[0mixpr\u001b[0m\u001b[1;33m,\u001b[0m \u001b[0mmxstep\u001b[0m\u001b[1;33m,\u001b[0m \u001b[0mmxhnil\u001b[0m\u001b[1;33m,\u001b[0m \u001b[0mmxordn\u001b[0m\u001b[1;33m,\u001b[0m \u001b[0mmxords\u001b[0m\u001b[1;33m,\u001b[0m\u001b[1;33m\u001b[0m\u001b[1;33m\u001b[0m\u001b[0m\n\u001b[1;32m--> 244\u001b[1;33m                              int(bool(tfirst)))\n\u001b[0m\u001b[0;32m    245\u001b[0m     \u001b[1;32mif\u001b[0m \u001b[0moutput\u001b[0m\u001b[1;33m[\u001b[0m\u001b[1;33m-\u001b[0m\u001b[1;36m1\u001b[0m\u001b[1;33m]\u001b[0m \u001b[1;33m<\u001b[0m \u001b[1;36m0\u001b[0m\u001b[1;33m:\u001b[0m\u001b[1;33m\u001b[0m\u001b[1;33m\u001b[0m\u001b[0m\n\u001b[0;32m    246\u001b[0m         \u001b[0mwarning_msg\u001b[0m \u001b[1;33m=\u001b[0m \u001b[0m_msgs\u001b[0m\u001b[1;33m[\u001b[0m\u001b[0moutput\u001b[0m\u001b[1;33m[\u001b[0m\u001b[1;33m-\u001b[0m\u001b[1;36m1\u001b[0m\u001b[1;33m]\u001b[0m\u001b[1;33m]\u001b[0m \u001b[1;33m+\u001b[0m \u001b[1;34m\" Run with full_output = 1 to get quantitative information.\"\u001b[0m\u001b[1;33m\u001b[0m\u001b[1;33m\u001b[0m\u001b[0m\n",
      "\u001b[1;32mc:\\users\\helleckes\\repos\\murefi\\murefi\\murefi\\contrib\\monod.py\u001b[0m in \u001b[0;36mdydt\u001b[1;34m(self, y, t, theta)\u001b[0m\n\u001b[0;32m     15\u001b[0m         \u001b[1;31m# NOTE: this method has significant performance impact!\u001b[0m\u001b[1;33m\u001b[0m\u001b[1;33m\u001b[0m\u001b[1;33m\u001b[0m\u001b[0m\n\u001b[0;32m     16\u001b[0m         \u001b[0mS\u001b[0m\u001b[1;33m,\u001b[0m \u001b[0mX\u001b[0m \u001b[1;33m=\u001b[0m \u001b[0my\u001b[0m\u001b[1;33m\u001b[0m\u001b[1;33m\u001b[0m\u001b[0m\n\u001b[1;32m---> 17\u001b[1;33m         \u001b[0mmu_max\u001b[0m\u001b[1;33m,\u001b[0m \u001b[0mK_S\u001b[0m\u001b[1;33m,\u001b[0m \u001b[0mY_XS\u001b[0m \u001b[1;33m=\u001b[0m \u001b[0mtheta\u001b[0m\u001b[1;33m\u001b[0m\u001b[1;33m\u001b[0m\u001b[0m\n\u001b[0m\u001b[0;32m     18\u001b[0m         \u001b[0mdXdt\u001b[0m \u001b[1;33m=\u001b[0m \u001b[0mmu_max\u001b[0m \u001b[1;33m*\u001b[0m \u001b[0mS\u001b[0m \u001b[1;33m*\u001b[0m \u001b[0mX\u001b[0m \u001b[1;33m/\u001b[0m \u001b[1;33m(\u001b[0m\u001b[0mK_S\u001b[0m \u001b[1;33m+\u001b[0m \u001b[0mS\u001b[0m\u001b[1;33m)\u001b[0m\u001b[1;33m\u001b[0m\u001b[1;33m\u001b[0m\u001b[0m\n\u001b[0;32m     19\u001b[0m \u001b[1;33m\u001b[0m\u001b[0m\n",
      "\u001b[1;31mValueError\u001b[0m: too many values to unpack (expected 3)"
     ]
    }
   ],
   "source": [
    "#High resolution values for time\n",
    "x_highres = numpy.arange(0, (dataset['A02'].x_max + 0.1), 0.1)\n",
    "\n",
    "# Integrate data for the result of optimization\n",
    "theta_fit = fit.x\n",
    "y = model.solver(theta_fit[:2], x_highres, theta_fit)\n",
    "\n",
    "#Plot replicates\n",
    "pyplot.figure()\n",
    "steps = numpy.arange(0, 1, 0.1).tolist()\n",
    "cmap = pyplot.cm.coolwarm\n",
    "for i, well in enumerate(dataset.keys()):\n",
    "    pyplot.scatter(dataset[well]['BS'].x, dataset[well]['BS'].y, label=f'observed X, {well}', color=cmap(steps[i]))\n",
    "\n",
    "#Plot fit\n",
    "pyplot.plot(x_highres, y['BS'], label='log likelihood fit X', color='black')\n",
    "\n",
    "pyplot.xlabel('time [h]')\n",
    "pyplot.ylabel('CDW [g/L]')\n",
    "_ = pyplot.legend()\n",
    "pyplot.show()\n"
   ]
  },
  {
   "cell_type": "code",
   "execution_count": null,
   "metadata": {},
   "outputs": [],
   "source": []
  }
 ],
 "metadata": {
  "kernelspec": {
   "display_name": "Python 3",
   "language": "python",
   "name": "python3"
  },
  "language_info": {
   "codemirror_mode": {
    "name": "ipython",
    "version": 3
   },
   "file_extension": ".py",
   "mimetype": "text/x-python",
   "name": "python",
   "nbconvert_exporter": "python",
   "pygments_lexer": "ipython3",
   "version": "3.6.8"
  }
 },
 "nbformat": 4,
 "nbformat_minor": 2
}
