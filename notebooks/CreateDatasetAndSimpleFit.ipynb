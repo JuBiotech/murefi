{
 "cells": [
  {
   "cell_type": "markdown",
   "metadata": {},
   "source": [
    "## Automated model defintion for variable global and local parameters\n",
    "The overall goal of this structure is to have one top-level model which can be fed with the parameters relevant for a dataset. The model then passes the parameters necessary for the fitting of the individual experiments to models on the lower levels. Those calculate the scalar of the loss functions and the sum of all the loss functions is returned to the high-level model which then performs the optimization step."
   ]
  },
  {
   "cell_type": "markdown",
   "metadata": {},
   "source": [
    "### Importing packages"
   ]
  },
  {
   "cell_type": "code",
   "execution_count": 1,
   "metadata": {},
   "outputs": [],
   "source": [
    "%load_ext autoreload\n",
    "%autoreload 2\n",
    "\n",
    "import logging\n",
    "logger = logging.getLogger(__name__)\n",
    "import matplotlib.cm\n",
    "from matplotlib import pyplot\n",
    "import numpy\n",
    "import pandas\n",
    "import pathlib\n",
    "import scipy.optimize\n",
    "import bletl\n",
    "\n",
    "import calibr8\n",
    "import murefi"
   ]
  },
  {
   "cell_type": "markdown",
   "metadata": {},
   "source": [
    "### Create a dataset object from biolector data"
   ]
  },
  {
   "cell_type": "code",
   "execution_count": 2,
   "metadata": {},
   "outputs": [
    {
     "name": "stderr",
     "output_type": "stream",
     "text": [
      "C:\\Users\\zufal\\Miniconda3\\envs\\murefi-dev\\lib\\site-packages\\bletl\\parsing\\bl1.py:113: UserWarning: Calibration values for DO signal are missing. Skipping calibration.\n",
      "  warnings.warn('Calibration values for DO signal are missing. Skipping calibration.')\n",
      "C:\\Users\\zufal\\Miniconda3\\envs\\murefi-dev\\lib\\site-packages\\bletl\\parsing\\bl1.py:104: UserWarning: Calibration values for pH signal are missing. Skipping calibration.\n",
      "  warnings.warn('Calibration values for pH signal are missing. Skipping calibration.')\n"
     ]
    }
   ],
   "source": [
    "filepath = pathlib.Path('Data', 'SiLA_Coryne_Standard_20181026_150350.csv')\n",
    "\n",
    "bldata = bletl.parse(filepath) #dictionary with FilterTimeSeries objects"
   ]
  },
  {
   "cell_type": "markdown",
   "metadata": {},
   "source": [
    "#### The parameter file determines the wells included in the dataset and fit\n",
    "Here, only wells A2, A3, B1, B2 and B3 all having the same parameters are extracted from the data"
   ]
  },
  {
   "cell_type": "code",
   "execution_count": 3,
   "metadata": {},
   "outputs": [],
   "source": [
    "parameter_path = pathlib.Path('Data', 'Parametertest.csv')"
   ]
  },
  {
   "cell_type": "code",
   "execution_count": 4,
   "metadata": {},
   "outputs": [
    {
     "data": {
      "text/html": [
       "<div>\n",
       "<style scoped>\n",
       "    .dataframe tbody tr th:only-of-type {\n",
       "        vertical-align: middle;\n",
       "    }\n",
       "\n",
       "    .dataframe tbody tr th {\n",
       "        vertical-align: top;\n",
       "    }\n",
       "\n",
       "    .dataframe thead th {\n",
       "        text-align: right;\n",
       "    }\n",
       "</style>\n",
       "<table border=\"1\" class=\"dataframe\">\n",
       "  <thead>\n",
       "    <tr style=\"text-align: right;\">\n",
       "      <th></th>\n",
       "      <th>Parameter</th>\n",
       "      <th>S_0</th>\n",
       "      <th>X_0</th>\n",
       "      <th>mue_max</th>\n",
       "      <th>K_S</th>\n",
       "      <th>Y_XS</th>\n",
       "    </tr>\n",
       "  </thead>\n",
       "  <tbody>\n",
       "    <tr>\n",
       "      <th>2</th>\n",
       "      <td>A02</td>\n",
       "      <td>S_0</td>\n",
       "      <td>X_0</td>\n",
       "      <td>mue_max</td>\n",
       "      <td>K_S</td>\n",
       "      <td>Y_XS</td>\n",
       "    </tr>\n",
       "    <tr>\n",
       "      <th>3</th>\n",
       "      <td>A03</td>\n",
       "      <td>S_0</td>\n",
       "      <td>X_0</td>\n",
       "      <td>mue_max</td>\n",
       "      <td>K_S</td>\n",
       "      <td>Y_XS</td>\n",
       "    </tr>\n",
       "    <tr>\n",
       "      <th>4</th>\n",
       "      <td>B01</td>\n",
       "      <td>S_0</td>\n",
       "      <td>X_0</td>\n",
       "      <td>mue_max</td>\n",
       "      <td>K_S</td>\n",
       "      <td>Y_XS</td>\n",
       "    </tr>\n",
       "    <tr>\n",
       "      <th>5</th>\n",
       "      <td>B02</td>\n",
       "      <td>S_0</td>\n",
       "      <td>X_0</td>\n",
       "      <td>mue_max</td>\n",
       "      <td>K_S</td>\n",
       "      <td>Y_XS</td>\n",
       "    </tr>\n",
       "    <tr>\n",
       "      <th>6</th>\n",
       "      <td>B03</td>\n",
       "      <td>S_0</td>\n",
       "      <td>X_0</td>\n",
       "      <td>mue_max</td>\n",
       "      <td>K_S</td>\n",
       "      <td>Y_XS</td>\n",
       "    </tr>\n",
       "  </tbody>\n",
       "</table>\n",
       "</div>"
      ],
      "text/plain": [
       "  Parameter  S_0  X_0  mue_max  K_S  Y_XS\n",
       "2       A02  S_0  X_0  mue_max  K_S  Y_XS\n",
       "3       A03  S_0  X_0  mue_max  K_S  Y_XS\n",
       "4       B01  S_0  X_0  mue_max  K_S  Y_XS\n",
       "5       B02  S_0  X_0  mue_max  K_S  Y_XS\n",
       "6       B03  S_0  X_0  mue_max  K_S  Y_XS"
      ]
     },
     "execution_count": 4,
     "metadata": {},
     "output_type": "execute_result"
    }
   ],
   "source": [
    "df_mapping = pandas.read_csv(parameter_path, sep=';').iloc[2:]\n",
    "df_mapping"
   ]
  },
  {
   "cell_type": "code",
   "execution_count": 5,
   "metadata": {},
   "outputs": [],
   "source": [
    "model = murefi.MonodModel()\n",
    "model.bounds = dict(\n",
    "    S_0=(0,20),\n",
    "    X_0=(0,1),\n",
    "    mue_max=(0,0.8),\n",
    "    K_S=(0,0.2),\n",
    "    Y_XS=(0,0.8)\n",
    ")\n",
    "model.guesses = dict(\n",
    "    S_0=10,\n",
    "    X_0=0.2,\n",
    "    mue_max=0.3,\n",
    "    K_S=0.05,\n",
    "    Y_XS=(0.5)\n",
    ")"
   ]
  },
  {
   "cell_type": "code",
   "execution_count": 6,
   "metadata": {},
   "outputs": [
    {
     "data": {
      "text/plain": [
       "{'A02': ('S_0', 'X_0', 'mue_max', 'K_S', 'Y_XS'),\n",
       " 'A03': ('S_0', 'X_0', 'mue_max', 'K_S', 'Y_XS'),\n",
       " 'B01': ('S_0', 'X_0', 'mue_max', 'K_S', 'Y_XS'),\n",
       " 'B02': ('S_0', 'X_0', 'mue_max', 'K_S', 'Y_XS'),\n",
       " 'B03': ('S_0', 'X_0', 'mue_max', 'K_S', 'Y_XS')}"
      ]
     },
     "execution_count": 6,
     "metadata": {},
     "output_type": "execute_result"
    }
   ],
   "source": [
    "mapping = murefi.ParameterMapping(df_mapping, bounds = model.bounds, guesses = model.guesses)\n",
    "\n",
    "mapping.mapping"
   ]
  },
  {
   "cell_type": "code",
   "execution_count": 7,
   "metadata": {
    "scrolled": false
   },
   "outputs": [
    {
     "name": "stderr",
     "output_type": "stream",
     "text": [
      "Not all measurements from {'BS10': <bletl.core.FilterTimeSeries object at 0x0000029D5FA5FBA8>} are converted to a Dataset object. Wells ['A01', 'A04', 'A05', 'A06', 'A07', 'A08', 'B04', 'B05', 'B06', 'B07', 'B08', 'C01', 'C02', 'C03', 'C04', 'C05', 'C06', 'C07', 'C08', 'D01', 'D02', 'D03', 'D04', 'D05', 'D06', 'D07', 'D08', 'E01', 'E02', 'E03', 'E04', 'E05', 'E06', 'E07', 'E08', 'F01', 'F02', 'F03', 'F04', 'F05', 'F06', 'F07', 'F08'] were omitted.\n"
     ]
    },
    {
     "data": {
      "text/plain": [
       "Dataset([('A02', Replicate(BS10[:120])),\n",
       "         ('A03', Replicate(BS10[:120])),\n",
       "         ('B01', Replicate(BS10[:120])),\n",
       "         ('B02', Replicate(BS10[:120])),\n",
       "         ('B03', Replicate(BS10[:120]))])"
      ]
     },
     "execution_count": 7,
     "metadata": {},
     "output_type": "execute_result"
    }
   ],
   "source": [
    "dependent_key = 'BS10'\n",
    "\n",
    "def create_dataset_object(bldata:bletl.BLData, parameter_mapping):\n",
    "    \"\"\"Function to create a dataset object for all replicates\n",
    "    Args:\n",
    "        bldata:     dictionary with 'FilterTimeSeries' objects (technicially \n",
    "                        calibrated data) from bletl (bldata.calibrated_data)\n",
    "        par_dic:        dictionary containing well IDs as keys and the\n",
    "                        parameters for fitting provided by the user\n",
    "                        (murefi.ParameterMapping(parameter_path).parameters_dic)\n",
    "    Returns:\n",
    "        dataset (murefi.Dataset): Replicate objects for each well\n",
    "    \"\"\"\n",
    "    if not len(bldata[dependent_key].value.keys()) == len(parameter_mapping.mapping.keys()):\n",
    "        excluded = [\n",
    "            key\n",
    "            for key in bldata[dependent_key].value.keys()\n",
    "            if not key in parameter_mapping.mapping.keys()\n",
    "        ]\n",
    "        logger.warning(f'Not all measurements from {bldata} are converted to a Dataset object. Wells {excluded} were omitted.')\n",
    "    dataset = murefi.Dataset()\n",
    "    for well_id in parameter_mapping.mapping.keys():\n",
    "        bs_x = bldata['BS10'].time[well_id][0:120]\n",
    "        bs_y = bldata['BS10'].value[well_id].multiply(0.1187).add(0.5866)[0:120]\n",
    "        bs_ts = murefi.Timeseries(list(bs_x), list(bs_y), independent_key='X', dependent_key=dependent_key)\n",
    "        rep = murefi.Replicate(well_id)\n",
    "        rep[dependent_key] = bs_ts\n",
    "        dataset[well_id] = rep\n",
    "    return dataset\n",
    "\n",
    "    \n",
    "dataset = create_dataset_object(bldata, mapping)\n",
    "dataset"
   ]
  },
  {
   "cell_type": "markdown",
   "metadata": {},
   "source": [
    "### Function to calculate the loglikelihood of the dataset"
   ]
  },
  {
   "cell_type": "markdown",
   "metadata": {},
   "source": [
    "## A fitting example"
   ]
  },
  {
   "cell_type": "code",
   "execution_count": 8,
   "metadata": {},
   "outputs": [],
   "source": [
    "objective = murefi.objectives.for_dataset(dataset, model, mapping, error_models=[])\n",
    "fit = scipy.optimize.minimize(objective, mapping.guesses, bounds=mapping.bounds)"
   ]
  },
  {
   "cell_type": "code",
   "execution_count": 9,
   "metadata": {},
   "outputs": [
    {
     "data": {
      "text/html": [
       "<div>\n",
       "<style scoped>\n",
       "    .dataframe tbody tr th:only-of-type {\n",
       "        vertical-align: middle;\n",
       "    }\n",
       "\n",
       "    .dataframe tbody tr th {\n",
       "        vertical-align: top;\n",
       "    }\n",
       "\n",
       "    .dataframe thead th {\n",
       "        text-align: right;\n",
       "    }\n",
       "</style>\n",
       "<table border=\"1\" class=\"dataframe\">\n",
       "  <thead>\n",
       "    <tr style=\"text-align: right;\">\n",
       "      <th></th>\n",
       "      <th>parameters</th>\n",
       "      <th>estimate</th>\n",
       "    </tr>\n",
       "  </thead>\n",
       "  <tbody>\n",
       "    <tr>\n",
       "      <th>K_S</th>\n",
       "      <td>K_S</td>\n",
       "      <td>0.05</td>\n",
       "    </tr>\n",
       "    <tr>\n",
       "      <th>S_0</th>\n",
       "      <td>S_0</td>\n",
       "      <td>10.00</td>\n",
       "    </tr>\n",
       "    <tr>\n",
       "      <th>X_0</th>\n",
       "      <td>X_0</td>\n",
       "      <td>0.20</td>\n",
       "    </tr>\n",
       "    <tr>\n",
       "      <th>Y_XS</th>\n",
       "      <td>Y_XS</td>\n",
       "      <td>0.50</td>\n",
       "    </tr>\n",
       "    <tr>\n",
       "      <th>mue_max</th>\n",
       "      <td>mue_max</td>\n",
       "      <td>0.30</td>\n",
       "    </tr>\n",
       "  </tbody>\n",
       "</table>\n",
       "</div>"
      ],
      "text/plain": [
       "        parameters  estimate\n",
       "K_S            K_S      0.05\n",
       "S_0            S_0     10.00\n",
       "X_0            X_0      0.20\n",
       "Y_XS          Y_XS      0.50\n",
       "mue_max    mue_max      0.30"
      ]
     },
     "execution_count": 9,
     "metadata": {},
     "output_type": "execute_result"
    }
   ],
   "source": [
    "result = pandas.DataFrame(columns=['parameters', 'estimate'])\n",
    "result['parameters'] = mapping.parameters\n",
    "result['estimate'] = fit.x\n",
    "result"
   ]
  },
  {
   "cell_type": "markdown",
   "metadata": {},
   "source": [
    "### Plotting\n",
    "Plot the 5 replicates and the fit"
   ]
  },
  {
   "cell_type": "code",
   "execution_count": 10,
   "metadata": {},
   "outputs": [
    {
     "data": {
      "text/plain": [
       "('S_0', 'X_0', 'mue_max', 'K_S', 'Y_XS')"
      ]
     },
     "execution_count": 10,
     "metadata": {},
     "output_type": "execute_result"
    }
   ],
   "source": [
    "mapping.order"
   ]
  },
  {
   "cell_type": "code",
   "execution_count": 11,
   "metadata": {},
   "outputs": [
    {
     "data": {
      "text/plain": [
       "{'A02': ('S_0', 'X_0', 'mue_max', 'K_S', 'Y_XS'),\n",
       " 'A03': ('S_0', 'X_0', 'mue_max', 'K_S', 'Y_XS'),\n",
       " 'B01': ('S_0', 'X_0', 'mue_max', 'K_S', 'Y_XS'),\n",
       " 'B02': ('S_0', 'X_0', 'mue_max', 'K_S', 'Y_XS'),\n",
       " 'B03': ('S_0', 'X_0', 'mue_max', 'K_S', 'Y_XS')}"
      ]
     },
     "execution_count": 11,
     "metadata": {},
     "output_type": "execute_result"
    }
   ],
   "source": [
    "mapping.mapping"
   ]
  },
  {
   "cell_type": "code",
   "execution_count": 12,
   "metadata": {},
   "outputs": [
    {
     "data": {
      "text/plain": [
       "OrderedDict([('K_S', 'K_S'),\n",
       "             ('S_0', 'S_0'),\n",
       "             ('X_0', 'X_0'),\n",
       "             ('Y_XS', 'Y_XS'),\n",
       "             ('mue_max', 'mue_max')])"
      ]
     },
     "execution_count": 12,
     "metadata": {},
     "output_type": "execute_result"
    }
   ],
   "source": [
    "mapping.parameters"
   ]
  },
  {
   "cell_type": "code",
   "execution_count": 13,
   "metadata": {},
   "outputs": [
    {
     "data": {
      "text/plain": [
       "(0.05, 10, 0.2, 0.5, 0.3)"
      ]
     },
     "execution_count": 13,
     "metadata": {},
     "output_type": "execute_result"
    }
   ],
   "source": [
    "mapping.guesses"
   ]
  },
  {
   "cell_type": "code",
   "execution_count": 14,
   "metadata": {},
   "outputs": [
    {
     "data": {
      "text/plain": [
       "array([ 0.05, 10.  ,  0.2 ,  0.5 ,  0.3 ])"
      ]
     },
     "execution_count": 14,
     "metadata": {},
     "output_type": "execute_result"
    }
   ],
   "source": [
    "fit.x"
   ]
  },
  {
   "cell_type": "code",
   "execution_count": 15,
   "metadata": {},
   "outputs": [
    {
     "data": {
      "text/plain": [
       "{'A02': array([10.  ,  0.2 ,  0.3 ,  0.05,  0.5 ]),\n",
       " 'A03': array([10.  ,  0.2 ,  0.3 ,  0.05,  0.5 ]),\n",
       " 'B01': array([10.  ,  0.2 ,  0.3 ,  0.05,  0.5 ]),\n",
       " 'B02': array([10.  ,  0.2 ,  0.3 ,  0.05,  0.5 ]),\n",
       " 'B03': array([10.  ,  0.2 ,  0.3 ,  0.05,  0.5 ])}"
      ]
     },
     "execution_count": 15,
     "metadata": {},
     "output_type": "execute_result"
    }
   ],
   "source": [
    "mapping.repmap(fit.x)"
   ]
  },
  {
   "cell_type": "code",
   "execution_count": 16,
   "metadata": {},
   "outputs": [
    {
     "data": {
      "image/png": "[encoded data removed]",
      "text/plain": [
       "<Figure size 432x288 with 1 Axes>"
      ]
     },
     "metadata": {
      "needs_background": "light"
     },
     "output_type": "display_data"
    }
   ],
   "source": [
    "theta_dict = mapping.repmap(fit.x)\n",
    "\n",
    "# High-resolution template for the prediction\n",
    "template = murefi.Replicate.make_template(0, 20, ['S', 'X'])\n",
    "\n",
    "# Make a prediction for a well of interest\n",
    "well = 'A02'\n",
    "y_pred = model.predict_replicate(theta_dict[well], template)\n",
    "\n",
    "#Plot replicates\n",
    "pyplot.figure()\n",
    "steps = numpy.arange(0, 1, 0.1).tolist()\n",
    "cmap = pyplot.cm.coolwarm\n",
    "for i, well in enumerate(dataset.keys()):\n",
    "    pyplot.scatter(\n",
    "        dataset[well][dependent_key].x,\n",
    "        dataset[well][dependent_key].y,\n",
    "        label=f'observed X, {well}',\n",
    "        color=cmap(steps[i])\n",
    "    )\n",
    "\n",
    "#Plot fit\n",
    "for yk in {'S', 'X'}:\n",
    "    pyplot.plot(y_pred[yk].x, y_pred[yk].y, label=f'log likelihood fit {yk}')\n",
    "\n",
    "pyplot.xlabel('time [h]')\n",
    "pyplot.ylabel('$X\\ [g_{CDW}/L]$')\n",
    "pyplot.legend()\n",
    "pyplot.show()"
   ]
  },
  {
   "cell_type": "markdown",
   "metadata": {},
   "source": [
    "The optimization did not actually fit anything, because we did not specify an error model when creating the objective!"
   ]
  },
  {
   "cell_type": "code",
   "execution_count": null,
   "metadata": {},
   "outputs": [],
   "source": []
  }
 ],
 "metadata": {
  "kernelspec": {
   "display_name": "Python 3",
   "language": "python",
   "name": "python3"
  },
  "language_info": {
   "codemirror_mode": {
    "name": "ipython",
    "version": 3
   },
   "file_extension": ".py",
   "mimetype": "text/x-python",
   "name": "python",
   "nbconvert_exporter": "python",
   "pygments_lexer": "ipython3",
   "version": "3.6.8"
  }
 },
 "nbformat": 4,
 "nbformat_minor": 2
}
