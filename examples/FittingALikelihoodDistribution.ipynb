{
 "cells": [
  {
   "cell_type": "markdown",
   "metadata": {},
   "source": [
    "# Fitting Likelihood Distributions\n",
    "The purpose of this notebook is to demonstrate how to estmiate the parameters of a probability distribution that best describes some observations.\n",
    "\n",
    "This is useful for describing the generation of measurement errors."
   ]
  },
  {
   "cell_type": "code",
   "execution_count": 1,
   "metadata": {},
   "outputs": [],
   "source": [
    "from ipywidgets import interact, interactive, fixed, interact_manual\n",
    "import ipywidgets as widgets\n",
    "from IPython.display import display\n",
    "\n",
    "import numpy\n",
    "from matplotlib import pyplot\n",
    "import scipy.stats\n",
    "import scipy.optimize"
   ]
  },
  {
   "cell_type": "markdown",
   "metadata": {},
   "source": [
    "## Generating some example data\n",
    "First we generate some observations, by drawing from the true distribution."
   ]
  },
  {
   "cell_type": "code",
   "execution_count": 2,
   "metadata": {},
   "outputs": [
    {
     "data": {
      "image/png": "[encoded data removed]",
      "text/plain": [
       "<Figure size 936x216 with 1 Axes>"
      ]
     },
     "metadata": {
      "needs_background": "light"
     },
     "output_type": "display_data"
    }
   ],
   "source": [
    "mu_true = 1.3\n",
    "sigma_true = 0.8\n",
    "N = 20\n",
    "\n",
    "numpy.random.seed(2018)\n",
    "samples = numpy.random.normal(loc=mu_true, scale=sigma_true, size=N)\n",
    "\n",
    "fig, ax = pyplot.subplots(figsize=(13,3))\n",
    "for s in samples:\n",
    "    ax.arrow(x=s, y=0.3, dx=0, dy=-0.2, fc='black', head_width=0.1, head_length=0.1 )\n",
    "ax.spines['left'].set_visible(False)\n",
    "ax.spines['top'].set_visible(False)\n",
    "ax.spines['right'].set_visible(False)\n",
    "ax.spines['bottom'].set_position('center')\n",
    "ax.yaxis.set_visible(False)\n",
    "ax.tick_params(axis='x', which='minor', bottom=False)\n",
    "pyplot.xlim(-3, 3.5)\n",
    "pyplot.ylim(-1, 1)\n",
    "pyplot.show()"
   ]
  },
  {
   "cell_type": "markdown",
   "metadata": {},
   "source": [
    "## Fitting a distribution\n",
    "For simplicity, we'll assume that the observations are normally distributed."
   ]
  },
  {
   "cell_type": "markdown",
   "metadata": {},
   "source": [
    "### Automatic Maximum-Likelihood fit"
   ]
  },
  {
   "cell_type": "code",
   "execution_count": 3,
   "metadata": {},
   "outputs": [
    {
     "data": {
      "text/plain": [
       "      fun: 21.739951075570605\n",
       " hess_inv: <2x2 LbfgsInvHessProduct with dtype=float64>\n",
       "      jac: array([0.00000000e+00, 2.13162821e-06])\n",
       "  message: b'CONVERGENCE: NORM_OF_PROJECTED_GRADIENT_<=_PGTOL'\n",
       "     nfev: 33\n",
       "      nit: 7\n",
       "   status: 0\n",
       "  success: True\n",
       "        x: array([1.37677876, 0.71752968])"
      ]
     },
     "execution_count": 3,
     "metadata": {},
     "output_type": "execute_result"
    }
   ],
   "source": [
    "def compute_likelihoods(y_obs, mu, sigma):\n",
    "    likelihoods = scipy.stats.norm.pdf(y_obs, loc=mu, scale=sigma)\n",
    "    return likelihoods\n",
    "\n",
    "def objective(theta):\n",
    "    mu, sigma = theta\n",
    "    likelihoods = compute_likelihoods(samples, mu, sigma)\n",
    "    return -numpy.sum(numpy.log(likelihoods))\n",
    "\n",
    "bounds = [\n",
    "    (-3, 3),\n",
    "    (0.5, 2)\n",
    "]\n",
    "fit = scipy.optimize.minimize(objective, x0=[1,1], bounds=bounds)\n",
    "mu_fit, sigma_fit = fit.x\n",
    "fit"
   ]
  },
  {
   "cell_type": "markdown",
   "metadata": {},
   "source": [
    "### Interactive Fit"
   ]
  },
  {
   "cell_type": "code",
   "execution_count": 4,
   "metadata": {},
   "outputs": [],
   "source": [
    "def plot(mu, sigma):\n",
    "    pyplot.figure(figsize=(8,5))\n",
    "    \n",
    "    x_dense = numpy.arange(-3, 3, 0.05)\n",
    "    \n",
    "    pdf_true = scipy.stats.norm.pdf(x_dense, loc=mu_true, scale=sigma_true)\n",
    "    pdf_fit = scipy.stats.norm.pdf(x_dense, loc=mu_fit, scale=sigma_fit)\n",
    "    pdf_manual = scipy.stats.norm.pdf(x_dense, loc=mu, scale=sigma)\n",
    "    \n",
    "    pyplot.plot(x_dense, pdf_true, color='black', linewidth=3, label='true distribution')\n",
    "    pyplot.plot(x_dense, pdf_fit, color='green', linewidth=3, linestyle=':', label='maximum likelihood estimate')\n",
    "    pyplot.plot(x_dense, pdf_manual, color='blue', linewidth=3, label='interactive fit')\n",
    "    \n",
    "    likelihoods = compute_likelihoods(y_obs=samples, mu=mu, sigma=sigma)\n",
    "    obj = objective([mu, sigma])\n",
    "    \n",
    "    # plot lollipops for all individual likelihoods\n",
    "    pyplot.scatter(samples, likelihoods, color='blue')\n",
    "    pyplot.vlines(x=samples, ymin=0, ymax=likelihoods, color='blue', label='observations')\n",
    "    \n",
    "    # show the objective in the title\n",
    "    pyplot.title(f'$\\ell={obj:.4f}$')\n",
    "    \n",
    "    pyplot.legend()\n",
    "    \n",
    "    pyplot.show()\n",
    "    return"
   ]
  },
  {
   "cell_type": "code",
   "execution_count": 5,
   "metadata": {},
   "outputs": [
    {
     "name": "stdout",
     "output_type": "stream",
     "text": [
      "Move the sliders to minimize the objective (shown in the title).\n"
     ]
    },
    {
     "data": {
      "application/vnd.jupyter.widget-view+json": {
       "model_id": "8e771c686f9945f89895656ac6403aa0",
       "version_major": 2,
       "version_minor": 0
      },
      "text/plain": [
       "interactive(children=(FloatSlider(value=0.0, description='mu', max=3.0, min=-3.0), FloatSlider(value=1.2000000…"
      ]
     },
     "metadata": {},
     "output_type": "display_data"
    }
   ],
   "source": [
    "w = interactive(plot,\n",
    "                # tuples of (lower, uper, stepsize)\n",
    "                mu=(-3, 3, 0.1),\n",
    "                sigma=(0.5, 2, 0.1))\n",
    "\n",
    "print('Move the sliders to minimize the objective (shown in the title).')\n",
    "display(w)"
   ]
  },
  {
   "cell_type": "code",
   "execution_count": null,
   "metadata": {},
   "outputs": [],
   "source": []
  }
 ],
 "metadata": {
  "kernelspec": {
   "display_name": "Python 3",
   "language": "python",
   "name": "python3"
  },
  "language_info": {
   "codemirror_mode": {
    "name": "ipython",
    "version": 3
   },
   "file_extension": ".py",
   "mimetype": "text/x-python",
   "name": "python",
   "nbconvert_exporter": "python",
   "pygments_lexer": "ipython3",
   "version": "3.6.7"
  }
 },
 "nbformat": 4,
 "nbformat_minor": 2
}
