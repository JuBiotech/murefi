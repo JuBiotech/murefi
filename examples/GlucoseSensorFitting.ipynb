{
 "cells": [
  {
   "cell_type": "markdown",
   "metadata": {},
   "source": [
    "# Fitting a Monod-Kinetic to fluorescently measured substrate concentration\n",
    "In this example, we use toy data to demonstrate `murefi` features that help to fit a growth model to data that was obtained with non-trivial observation errors.\n",
    "\n",
    "The fluorescent glucose biosensor, that was developed by Julia Otten at IBG-1 is a perfect example for such a scenario: At low glucose concentrations that occur at the end of batch cultivations, the sensor can be calibrated. At high concentrations, however, the sensor is saturated."
   ]
  },
  {
   "cell_type": "code",
   "execution_count": 1,
   "metadata": {},
   "outputs": [],
   "source": [
    "import numpy\n",
    "import pandas\n",
    "from matplotlib import pyplot\n",
    "import scipy.optimize\n",
    "\n",
    "import murefi"
   ]
  },
  {
   "cell_type": "markdown",
   "metadata": {},
   "source": [
    "## Error Model\n",
    "\n",
    "### Generating Fake Data\n",
    "Because this is a toy example, we have to generate fake calibration data:"
   ]
  },
  {
   "cell_type": "code",
   "execution_count": 2,
   "metadata": {},
   "outputs": [],
   "source": [
    "def logistic(y_hat, theta):\n",
    "    I_x, I_y, Lmax, s = theta\n",
    "    y_val = 2 * I_y - Lmax + (2 * (Lmax - I_y)) / (1 + numpy.exp(-4*s * (y_hat - I_x)))\n",
    "    return y_val\n",
    "\n",
    "theta_true = numpy.array([6.0, 0.75, 1.3, 0.2])\n",
    "\n",
    "cal_concentrations = numpy.array([20, 18, 16, 14, 12, 10, 9, 8, 6, 5, 4, 3, 2, 1, 0.5, 0])\n",
    "numpy.random.seed(2018)\n",
    "cal_readouts = numpy.array([\n",
    "    scipy.stats.t(loc=logistic(s, theta_true), scale=0.07, df=1).rvs(1)\n",
    "    for s in cal_concentrations\n",
    "])[:,0]"
   ]
  },
  {
   "cell_type": "markdown",
   "metadata": {},
   "source": [
    "### Acquired Calibration Data\n",
    "Let's assume that we have acquired calibration data with pairs of glucose concentration $S$ and FRET Ratios $R$ that look like this:"
   ]
  },
  {
   "cell_type": "code",
   "execution_count": 3,
   "metadata": {},
   "outputs": [
    {
     "data": {
      "image/png": "[encoded data removed]",
      "text/plain": [
       "<Figure size 432x288 with 1 Axes>"
      ]
     },
     "metadata": {
      "needs_background": "light"
     },
     "output_type": "display_data"
    }
   ],
   "source": [
    "pyplot.scatter(cal_concentrations, cal_readouts)\n",
    "pyplot.xlim(0, 23)\n",
    "pyplot.ylim(0, cal_readouts.max() + 0.1)\n",
    "pyplot.xlabel('$S$   [g/L]')\n",
    "pyplot.ylabel('$R$   [-]')\n",
    "pyplot.show()"
   ]
  },
  {
   "cell_type": "markdown",
   "metadata": {},
   "source": [
    "### Implementing the Error Model\n",
    "The calibration measurement are obviously subject to observation noise. Also, the sensor seems to be _in saturation_ at concentrations higher than about 10 g/L.\n",
    "\n",
    "To account for these imprecisions in our Monod model, we first have to set up an _error model_ for the glucose observations."
   ]
  },
  {
   "cell_type": "code",
   "execution_count": 4,
   "metadata": {},
   "outputs": [],
   "source": [
    "class GlucoseErrorModel(murefi.ErrorModel):    \n",
    "    def logistic(self, y_hat, theta):\n",
    "        \"\"\"Logistic model of the expected readout, given a true concentration.\n",
    "        \n",
    "        Arguments:\n",
    "            y_hat (array): realizations of the independent variable (concentrations)\n",
    "            theta_log (array): parameters of the logistic model\n",
    "                I_x: inflection point (x)\n",
    "                I_y: inflection point (y)\n",
    "                Lmax: maximum value\n",
    "                s: slope at the inflection point\n",
    "        \"\"\"\n",
    "        I_x, I_y, Lmax, s = theta\n",
    "        y_val = 2 * I_y - Lmax + (2 * (Lmax - I_y)) / (1 + numpy.exp(-4*s * (y_hat - I_x)))\n",
    "        return y_val\n",
    "    \n",
    "    def error_model(self, y_hat, theta):\n",
    "        mu = self.logistic(y_hat, theta[:4])\n",
    "        # for simplicitly of this example, we model the noise to be independent from y_hat\n",
    "        # in many real-world scenarios, the noise may actually depend on y_hat as well\n",
    "        sigma = numpy.repeat(theta[4], len(y_hat))\n",
    "        # the t-distribution is also parameterized by a 'shape'. In this example it is always =1\n",
    "        df = 1\n",
    "        return mu, sigma, df\n",
    "        \n",
    "    def loglikelihood(self, y, y_hat, theta):\n",
    "        mu, sigma, df = self.error_model(y_hat, theta)\n",
    "        # assuming t-distributed observation noise\n",
    "        likelihoods = scipy.stats.t.pdf(x=y, loc=mu, scale=sigma, df=1)\n",
    "        loglikelihoods = numpy.log(likelihoods)\n",
    "        ll = numpy.sum(loglikelihoods)\n",
    "        return ll\n",
    "    \n",
    "    def fit(self, y, y_hat, theta_guessed, bounds):\n",
    "        def sum_negative_loglikelihood(theta):\n",
    "            return(-self.loglikelihood(y, y_hat, theta))\n",
    "        fit = scipy.optimize.minimize(sum_negative_loglikelihood, theta_guessed, bounds=bounds)\n",
    "        self.theta_fitted = fit.x\n",
    "        return fit"
   ]
  },
  {
   "cell_type": "markdown",
   "metadata": {},
   "source": [
    "### Fitting the error model\n",
    "Thanks to the `fit` function, all we need to do is set up some parameter bounds and initial guesses."
   ]
  },
  {
   "cell_type": "code",
   "execution_count": 5,
   "metadata": {},
   "outputs": [
    {
     "data": {
      "text/html": [
       "<div>\n",
       "<style scoped>\n",
       "    .dataframe tbody tr th:only-of-type {\n",
       "        vertical-align: middle;\n",
       "    }\n",
       "\n",
       "    .dataframe tbody tr th {\n",
       "        vertical-align: top;\n",
       "    }\n",
       "\n",
       "    .dataframe thead th {\n",
       "        text-align: right;\n",
       "    }\n",
       "</style>\n",
       "<table border=\"1\" class=\"dataframe\">\n",
       "  <thead>\n",
       "    <tr style=\"text-align: right;\">\n",
       "      <th></th>\n",
       "      <th>name</th>\n",
       "      <th>guess</th>\n",
       "      <th>bounds</th>\n",
       "      <th>fit</th>\n",
       "      <th>hit_bounds</th>\n",
       "    </tr>\n",
       "  </thead>\n",
       "  <tbody>\n",
       "    <tr>\n",
       "      <th>0</th>\n",
       "      <td>I_x</td>\n",
       "      <td>7.0</td>\n",
       "      <td>(4, 15)</td>\n",
       "      <td>6.711241</td>\n",
       "      <td>False</td>\n",
       "    </tr>\n",
       "    <tr>\n",
       "      <th>1</th>\n",
       "      <td>I_y</td>\n",
       "      <td>0.7</td>\n",
       "      <td>(0.3, 1.4)</td>\n",
       "      <td>0.755066</td>\n",
       "      <td>False</td>\n",
       "    </tr>\n",
       "    <tr>\n",
       "      <th>2</th>\n",
       "      <td>L_max</td>\n",
       "      <td>1.3</td>\n",
       "      <td>(1.0, 1.5)</td>\n",
       "      <td>1.314575</td>\n",
       "      <td>False</td>\n",
       "    </tr>\n",
       "    <tr>\n",
       "      <th>3</th>\n",
       "      <td>slope</td>\n",
       "      <td>0.1</td>\n",
       "      <td>(0.01, 3)</td>\n",
       "      <td>0.167446</td>\n",
       "      <td>False</td>\n",
       "    </tr>\n",
       "    <tr>\n",
       "      <th>4</th>\n",
       "      <td>sigma</td>\n",
       "      <td>0.2</td>\n",
       "      <td>(0.01, 0.5)</td>\n",
       "      <td>0.020664</td>\n",
       "      <td>False</td>\n",
       "    </tr>\n",
       "  </tbody>\n",
       "</table>\n",
       "</div>"
      ],
      "text/plain": [
       "    name  guess       bounds       fit  hit_bounds\n",
       "0    I_x    7.0      (4, 15)  6.711241       False\n",
       "1    I_y    0.7   (0.3, 1.4)  0.755066       False\n",
       "2  L_max    1.3   (1.0, 1.5)  1.314575       False\n",
       "3  slope    0.1    (0.01, 3)  0.167446       False\n",
       "4  sigma    0.2  (0.01, 0.5)  0.020664       False"
      ]
     },
     "execution_count": 5,
     "metadata": {},
     "output_type": "execute_result"
    }
   ],
   "source": [
    "name_guess_low_up = [\n",
    "    # name      guess   lower_bound    upper_bound\n",
    "    ('I_x',     7,      4,             15),\n",
    "    ('I_y',     0.7,    0.3,           1.4),\n",
    "    ('L_max',   1.3,    1.0,           1.5),\n",
    "    ('slope',   0.1,    0.01,          3),\n",
    "    ('sigma',   0.2,    0.01,          0.5),\n",
    "]\n",
    "\n",
    "df_fit = pandas.DataFrame(columns=['name', 'guess', 'bounds', 'fit', 'hit_bounds'])\n",
    "df_fit['name'] = [p for p, g, l, u in name_guess_low_up]\n",
    "df_fit['guess'] = [g for p, g, l, u in name_guess_low_up]\n",
    "df_fit['bounds'] = [(l,u) for p, g, l, u in name_guess_low_up]\n",
    "df_fit['fit'] = None\n",
    "df_fit['hit_bounds'] = None\n",
    "\n",
    "gem = GlucoseErrorModel(independent='S', dependent='R')\n",
    "fit = gem.fit(cal_readouts, cal_concentrations, df_fit['guess'], bounds=df_fit['bounds'])\n",
    "\n",
    "if not fit.success:\n",
    "    print(fit)\n",
    "\n",
    "df_fit['fit'] = fit.x\n",
    "lower_bounds = [u for l, u in df_fit['bounds']]\n",
    "upper_bounds = [u for l, u in df_fit['bounds']]\n",
    "df_fit['hit_bounds'] = numpy.logical_or(\n",
    "    numpy.isclose(fit.x, lower_bounds, rtol=0.01),\n",
    "    numpy.isclose(fit.x, upper_bounds, rtol=0.01)\n",
    ")\n",
    "df_fit"
   ]
  },
  {
   "cell_type": "code",
   "execution_count": 6,
   "metadata": {},
   "outputs": [
    {
     "data": {
      "image/png": "[encoded data removed]",
      "text/plain": [
       "<Figure size 432x288 with 1 Axes>"
      ]
     },
     "metadata": {
      "needs_background": "light"
     },
     "output_type": "display_data"
    }
   ],
   "source": [
    "x_dense = numpy.arange(0, 23, 0.1)\n",
    "\n",
    "mu, sigma, df = gem.error_model(y_hat=x_dense, theta=fit.x)\n",
    "\n",
    "pyplot.plot(x_dense, mu, label='$\\mu$')\n",
    "pyplot.scatter(cal_concentrations, cal_readouts)\n",
    "for s, percent in enumerate([99.7, 95, 68]):\n",
    "    s = s + 1\n",
    "    pyplot.fill_between(x_dense,\n",
    "        mu-s*sigma,\n",
    "        mu+s*sigma,\n",
    "        alpha=.15, color='green', label=f'{percent}% (${s}\\sigma$) likelihood band')\n",
    "\n",
    "pyplot.xlim(0, 23)\n",
    "pyplot.ylim(0, cal_readouts.max() + 0.1)\n",
    "pyplot.xlabel('$S$   [g/L]')\n",
    "pyplot.ylabel('FRET ratio $R$   [-]')\n",
    "pyplot.legend()\n",
    "pyplot.show()"
   ]
  },
  {
   "cell_type": "markdown",
   "metadata": {},
   "source": [
    "## Setting up a Process Model\n",
    "Now we can proceed with modeling our bioprocess.\n",
    "\n",
    "### Implementing the Monod Kinetic\n",
    "Here we will first implement the Monod kinetic."
   ]
  },
  {
   "cell_type": "code",
   "execution_count": 7,
   "metadata": {},
   "outputs": [],
   "source": [
    "class MonodModel(murefi.BaseODEModel):\n",
    "    \"\"\" Class specifying the model for parameter fitting as Monod kinetics. \"\"\"\n",
    "    def dydt(self, y, t, theta):\n",
    "        \"\"\"First derivative of the transient variables.\n",
    "        Args:\n",
    "            y (array): array of observables\n",
    "            t (float): time since intial state\n",
    "            theta (array): Monod parameters\n",
    "        Returns:\n",
    "            array: change in y at time t\n",
    "        \"\"\"\n",
    "        # NOTE: this method has significant performance impact!\n",
    "        S, X = y\n",
    "        S_0, X_0, mu_max, K_S, Y_XS = theta\n",
    "        dXdt = mu_max * S * X / (K_S + S)\n",
    "    \n",
    "        yprime = [\n",
    "            -1/Y_XS * dXdt,\n",
    "            dXdt,\n",
    "        ]\n",
    "        return yprime\n",
    "    \n",
    "monod = MonodModel(keys_y=('S', 'X'))"
   ]
  },
  {
   "cell_type": "markdown",
   "metadata": {},
   "source": [
    "### Generating Fake Process Measurements\n",
    "Again, we have to generate fake data. This time we can use the implemented Monod model to generate fake data:"
   ]
  },
  {
   "cell_type": "code",
   "execution_count": 8,
   "metadata": {},
   "outputs": [
    {
     "data": {
      "image/png": "[encoded data removed]",
      "text/plain": [
       "<Figure size 1008x432 with 2 Axes>"
      ]
     },
     "metadata": {
      "needs_background": "light"
     },
     "output_type": "display_data"
    }
   ],
   "source": [
    "x_obs = numpy.arange(1, 15, 1)\n",
    "x_dense = numpy.arange(1, 15, 0.1)\n",
    "\n",
    "theta_monod_true = [20, 0.1, 0.46, 0.02, 0.5]\n",
    "\n",
    "Y_true = monod.solver(\n",
    "    y0=theta_monod_true[:2],\n",
    "    x=x_obs,\n",
    "    theta=theta_monod_true)\n",
    "glucose_true = Y_true['S']\n",
    "biomass_true = Y_true['X']\n",
    "\n",
    "# here we generate fake measurements of the glucose sensor:\n",
    "R_observed = []\n",
    "for glc in glucose_true:\n",
    "    mu, sigma, df = gem.error_model([glc], gem.theta_fitted)\n",
    "    readout = scipy.stats.t(loc=mu, scale=sigma, df=df).rvs(1)[0]\n",
    "    R_observed.append(readout)\n",
    "R_observed = numpy.array(R_observed)\n",
    "\n",
    "observed = murefi.Replicate('A1')\n",
    "observed['R'] = murefi.Timeseries('R', x=x_obs, y=R_observed)\n",
    "\n",
    "# now plot all of this\n",
    "fig, (left, right) = pyplot.subplots(nrows=1, ncols=2, figsize=(14,6))\n",
    "\n",
    "left.scatter(x_obs, glucose_true, label='S', color='red')\n",
    "left.scatter(x_obs, biomass_true, label='X', color='green')\n",
    "left.set_xlabel('time   [h]')\n",
    "left.set_ylabel('S or X   [g/L]')\n",
    "left.set_title('ground truth')\n",
    "\n",
    "right.scatter(x_obs, R_observed, label='R', color='blue')\n",
    "right.set_xlabel('time   [h]')\n",
    "right.set_ylabel('FRET ratio   [-]')\n",
    "right.set_title('indirect observations')\n",
    "pyplot.show()"
   ]
  },
  {
   "cell_type": "markdown",
   "metadata": {},
   "source": [
    "### Inspecting observed data\n",
    "Now forget the plots above and assume that we have only the following observations.\n",
    "\n",
    "Can we fit a Monod kinetic to this data?"
   ]
  },
  {
   "cell_type": "code",
   "execution_count": 9,
   "metadata": {},
   "outputs": [
    {
     "name": "stdout",
     "output_type": "stream",
     "text": [
      "Available data:\n",
      "\tReplicate([('R', <murefi.datatypes.Timeseries object at 0x000002313BF8DE10>)])\n"
     ]
    },
    {
     "data": {
      "image/png": "[encoded data removed]",
      "text/plain": [
       "<Figure size 432x288 with 1 Axes>"
      ]
     },
     "metadata": {
      "needs_background": "light"
     },
     "output_type": "display_data"
    }
   ],
   "source": [
    "print(f'Available data:\\n\\t{observed}')\n",
    "\n",
    "pyplot.scatter(observed['R'].x, observed['R'].y, label='$R$')\n",
    "pyplot.xlabel('time   [h]')\n",
    "pyplot.ylabel('$R$   [-]')\n",
    "pyplot.ylim(0, observed['R'].y.max() + 0.1)\n",
    "pyplot.legend()\n",
    "pyplot.show()"
   ]
  },
  {
   "cell_type": "markdown",
   "metadata": {},
   "source": [
    "### Fitting with a sophisticated Error Model\n",
    "Finally, let's fit the process model using the previously determined error model."
   ]
  },
  {
   "cell_type": "code",
   "execution_count": 10,
   "metadata": {},
   "outputs": [],
   "source": [
    "def create_objective(model:murefi.BaseODEModel, error_models:murefi.ErrorModel,\n",
    "                     data:murefi.Replicate):\n",
    "    \"\"\"Creates an objective function that can be minimized.\n",
    "    \n",
    "    Args:\n",
    "        model (murefi.MonodModel): ODE model that makes predictions\n",
    "        error_models (dictionary of murefi.ErrorModel): error models that shall be used to compute likelihoods\n",
    "        data (murefi.Replicate): Replicate object for which the parameters should be fitted.\n",
    "        par_map (murefi.ParameterMapping): Parameter map obtained with the corresponding murefi class\n",
    "    \"\"\"\n",
    "    # add mock Timeseries to the data, because otherwise the prediction will not return\n",
    "    # entries for those observable that were only observed indirectly\n",
    "    for error_model in error_models:\n",
    "        key_pred = error_model.independent\n",
    "        key_obs = error_model.dependent\n",
    "        if not key_pred in data:\n",
    "            data[key_pred] = murefi.Timeseries(key_pred,\n",
    "                x=data[key_obs].x, \n",
    "                y=numpy.repeat(numpy.nan, len(data[key_obs])))\n",
    "    \n",
    "    def negative_loglikelihood(theta_fit):\n",
    "        L = 0\n",
    "        \n",
    "        prediction = monod.predict_replicate(parameters=theta_fit, template=data)\n",
    "        \n",
    "        # iterate over all error models - without error models we have no way to calculate L\n",
    "        # each error model describes the likelihood of a dependent (key_obs)\n",
    "        # variable as a function of the independent (key_pred) variable\n",
    "        for error_model in error_models:\n",
    "            key_pred = error_model.independent\n",
    "            key_obs = error_model.dependent\n",
    "            \n",
    "            if key_obs in data and key_pred in prediction:\n",
    "                t_pred = prediction[key_pred]\n",
    "                t_obs = data[key_obs]\n",
    "        \n",
    "                ll = error_model.evaluate_loglikelihood(y=t_obs.y, y_hat=t_pred.y)\n",
    "                L += numpy.sum(ll)\n",
    "                \n",
    "        if L == 0:\n",
    "            raise Exception(f'keys_pred={prediction.keys()}, keys_obs={data.keys()}')\n",
    "        if numpy.isnan(L):\n",
    "            return -numpy.inf\n",
    "        return -L\n",
    "    return negative_loglikelihood"
   ]
  },
  {
   "cell_type": "code",
   "execution_count": 11,
   "metadata": {},
   "outputs": [],
   "source": [
    "obj = create_objective(\n",
    "    model=monod,\n",
    "    error_models=[gem],\n",
    "    data=observed\n",
    ")"
   ]
  },
  {
   "cell_type": "markdown",
   "metadata": {},
   "source": [
    "Finally, we have a fitting objective.\n",
    "\n",
    "The toy problem involved only _indirect_ observations of the substrate, therefore fitting all 5 parameters at the same time will not work. Instead, we're fixing initial substrate and biomass concentrations, as well as the biomass yield.\n",
    "\n",
    "This leaves $\\mu_{max}$ and $K_S$ as the only two free parameters. They alone, will allow the glucose curve to describe pretty much any trajectory."
   ]
  },
  {
   "cell_type": "code",
   "execution_count": 12,
   "metadata": {},
   "outputs": [
    {
     "data": {
      "text/html": [
       "<div>\n",
       "<style scoped>\n",
       "    .dataframe tbody tr th:only-of-type {\n",
       "        vertical-align: middle;\n",
       "    }\n",
       "\n",
       "    .dataframe tbody tr th {\n",
       "        vertical-align: top;\n",
       "    }\n",
       "\n",
       "    .dataframe thead th {\n",
       "        text-align: right;\n",
       "    }\n",
       "</style>\n",
       "<table border=\"1\" class=\"dataframe\">\n",
       "  <thead>\n",
       "    <tr style=\"text-align: right;\">\n",
       "      <th></th>\n",
       "      <th>name</th>\n",
       "      <th>guess</th>\n",
       "      <th>bounds</th>\n",
       "      <th>fit</th>\n",
       "      <th>hit_bounds</th>\n",
       "    </tr>\n",
       "  </thead>\n",
       "  <tbody>\n",
       "    <tr>\n",
       "      <th>0</th>\n",
       "      <td>S_0</td>\n",
       "      <td>20.00</td>\n",
       "      <td>(20, 20)</td>\n",
       "      <td>20.000000</td>\n",
       "      <td>True</td>\n",
       "    </tr>\n",
       "    <tr>\n",
       "      <th>1</th>\n",
       "      <td>X_0</td>\n",
       "      <td>0.10</td>\n",
       "      <td>(0.1, 0.1)</td>\n",
       "      <td>0.100000</td>\n",
       "      <td>True</td>\n",
       "    </tr>\n",
       "    <tr>\n",
       "      <th>2</th>\n",
       "      <td>mu_max</td>\n",
       "      <td>0.40</td>\n",
       "      <td>(0.3, 0.7)</td>\n",
       "      <td>0.462495</td>\n",
       "      <td>False</td>\n",
       "    </tr>\n",
       "    <tr>\n",
       "      <th>3</th>\n",
       "      <td>K_S</td>\n",
       "      <td>0.01</td>\n",
       "      <td>(0.001, 10)</td>\n",
       "      <td>0.172329</td>\n",
       "      <td>False</td>\n",
       "    </tr>\n",
       "    <tr>\n",
       "      <th>4</th>\n",
       "      <td>Y_XS</td>\n",
       "      <td>0.50</td>\n",
       "      <td>(0.5, 0.5)</td>\n",
       "      <td>0.500000</td>\n",
       "      <td>True</td>\n",
       "    </tr>\n",
       "  </tbody>\n",
       "</table>\n",
       "</div>"
      ],
      "text/plain": [
       "     name  guess       bounds        fit  hit_bounds\n",
       "0     S_0  20.00     (20, 20)  20.000000        True\n",
       "1     X_0   0.10   (0.1, 0.1)   0.100000        True\n",
       "2  mu_max   0.40   (0.3, 0.7)   0.462495       False\n",
       "3     K_S   0.01  (0.001, 10)   0.172329       False\n",
       "4    Y_XS   0.50   (0.5, 0.5)   0.500000        True"
      ]
     },
     "execution_count": 12,
     "metadata": {},
     "output_type": "execute_result"
    }
   ],
   "source": [
    "name_guess_low_up = [\n",
    "    # name      guess   lower_bound    upper_bound\n",
    "    ('S_0',     20,     20,            20),\n",
    "    ('X_0',     0.1,    0.1,           0.1),\n",
    "    ('mu_max',  0.40,   0.3,           0.7),\n",
    "    ('K_S',     0.01,   0.001,         10),\n",
    "    ('Y_XS',    0.5,    0.5,           0.5),\n",
    "]\n",
    "\n",
    "df_fit2 = pandas.DataFrame(columns=['name', 'guess', 'bounds', 'fit', 'hit_bounds'])\n",
    "df_fit2['name'] = [p for p, g, l, u in name_guess_low_up]\n",
    "df_fit2['guess'] = [g for p, g, l, u in name_guess_low_up]\n",
    "df_fit2['bounds'] = [(l,u) for p, g, l, u in name_guess_low_up]\n",
    "df_fit2['fit'] = None\n",
    "df_fit2['hit_bounds'] = None\n",
    "\n",
    "fit2 = scipy.optimize.minimize(obj, x0=df_fit2['guess'], bounds=df_fit2['bounds'])\n",
    "\n",
    "if not fit2.success:\n",
    "    print(fit2)\n",
    "\n",
    "df_fit2['fit'] = fit2.x\n",
    "lower_bounds = [u for l, u in df_fit2['bounds']]\n",
    "upper_bounds = [u for l, u in df_fit2['bounds']]\n",
    "df_fit2['hit_bounds'] = numpy.logical_or(\n",
    "    numpy.isclose(fit2.x, lower_bounds, rtol=0.01),\n",
    "    numpy.isclose(fit2.x, upper_bounds, rtol=0.01)\n",
    ")\n",
    "df_fit2"
   ]
  },
  {
   "cell_type": "code",
   "execution_count": 13,
   "metadata": {},
   "outputs": [
    {
     "data": {
      "image/png": "[encoded data removed]",
      "text/plain": [
       "<Figure size 432x288 with 1 Axes>"
      ]
     },
     "metadata": {
      "needs_background": "light"
     },
     "output_type": "display_data"
    }
   ],
   "source": [
    "x_dense = numpy.arange(0, 15, 0.1)\n",
    "\n",
    "Y_true = monod.solver(y0=theta_monod_true[:2], x=x_dense, theta=theta_monod_true)\n",
    "Y_guess = monod.solver(y0=fit2.x[:2], x=x_dense, theta=df_fit2['guess'])\n",
    "Y_pred = monod.solver(y0=fit2.x[:2], x=x_dense, theta=fit2.x)\n",
    "\n",
    "fig, ax = pyplot.subplots()\n",
    "\n",
    "ax.plot(x_dense, Y_true['X'], color='green', linestyle='--')\n",
    "ax.plot(x_dense, Y_true['S'], color='red', linestyle='--')\n",
    "\n",
    "ax.plot(x_dense, Y_guess['X'], color='green', linestyle=':')\n",
    "ax.plot(x_dense, Y_guess['S'], color='red', linestyle=':')\n",
    "\n",
    "ax.plot(x_dense, Y_pred['X'], color='green', label='X')\n",
    "ax.plot(x_dense, Y_pred['S'], color='red', label='S')\n",
    "\n",
    "\n",
    "ax.set_xlabel('time   [-]')\n",
    "ax.set_ylabel('X or S   [g/L]')\n",
    "\n",
    "ax.plot([20, 21], [0, 0], color='black', linestyle='--', label='truth')\n",
    "ax.plot([20, 21], [0, 0], color='black', linestyle=':', label='initial guess')\n",
    "ax.plot([20, 21], [0, 0], color='black', linestyle='-', label='maximum likelihood fit')\n",
    "\n",
    "ax.set_xlim(0, 15)\n",
    "ax.set_ylim(0, 25)\n",
    "\n",
    "pyplot.legend()\n",
    "pyplot.show()"
   ]
  },
  {
   "cell_type": "markdown",
   "metadata": {},
   "source": [
    "### Conclusion\n",
    "_Note:_ For demonstration purposes, this toy example was created with very few observed data points. Consequently, we have allowed unrealistic bounds $\\mu_{max}$ and $K_S$ because the random fluctuations from small data points have a large effect on the fit.\n",
    "\n",
    "The plot above shows that our model was successfully fitted agains the simulated FRET-ratio data by using the error model.\n",
    "\n",
    "With a real dataset, there would be substantially more observations of FRET-ration, as shown by Julia in her last PhD seminar. Furthermore there would be biomass observations as well."
   ]
  },
  {
   "cell_type": "code",
   "execution_count": null,
   "metadata": {},
   "outputs": [],
   "source": []
  },
  {
   "cell_type": "code",
   "execution_count": null,
   "metadata": {},
   "outputs": [],
   "source": []
  }
 ],
 "metadata": {
  "kernelspec": {
   "display_name": "Python 3",
   "language": "python",
   "name": "python3"
  },
  "language_info": {
   "codemirror_mode": {
    "name": "ipython",
    "version": 3
   },
   "file_extension": ".py",
   "mimetype": "text/x-python",
   "name": "python",
   "nbconvert_exporter": "python",
   "pygments_lexer": "ipython3",
   "version": "3.6.7"
  }
 },
 "nbformat": 4,
 "nbformat_minor": 2
}
